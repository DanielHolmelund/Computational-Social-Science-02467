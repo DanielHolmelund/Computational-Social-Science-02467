{
 "cells": [
  {
   "cell_type": "markdown",
   "id": "5400e70a",
   "metadata": {},
   "source": [
    "# Community Detection\n",
    "The following notebook will look into community detections in graphs"
   ]
  },
  {
   "cell_type": "markdown",
   "id": "97901b41",
   "metadata": {},
   "source": [
    "## Notes from video lecture\n",
    "### Modularity\n",
    "A community is intuitavily a dense well-connected group of nodes which is weakly connected to the rest of the graph. And the weak connections should have high betweeness. If the trace is 1 then all links will be inside communities. However, the entire network is seen as one community then the trace is still going to be 1. Hence, we compare to how the links would fall in a random network."
   ]
  },
  {
   "cell_type": "markdown",
   "id": "2ac594ac",
   "metadata": {},
   "source": [
    "Definition of modularity measure Q:\n",
    "$$a_{i}=\\sum_{j} e_{ij}$$\n",
    "$$Q = \\sum_{i} e_{ii} - a_{i}^2$$"
   ]
  },
  {
   "cell_type": "markdown",
   "id": "abcc583c",
   "metadata": {},
   "source": [
    "a is fraction of edges that connects to vertices within the community and Q is essentially the trace minus a. The idea here is to say that the trace should be $e_{ij} = a_{i}a_{j}$ if the communities were random. Hence, we say the trace minus what the trace would be if it was a random network. We want to have fewer than expected edges between communities."
   ]
  },
  {
   "cell_type": "markdown",
   "id": "63d292bc",
   "metadata": {},
   "source": [
    "### k-cliques\n",
    "clique is a fully connected subgraph. The algorithm defines a k-clique as adjacent cliques consisting of k nodes and share k-1 edges. Increasing the number of k, makes it possible to find denser and denser communities. This make it possible to have overlapping communities such as multiple friend groups. cfinder can be used to visualize k-cliques.\n"
   ]
  },
  {
   "cell_type": "markdown",
   "id": "cf068adb",
   "metadata": {},
   "source": [
    "### Link communities\n",
    "Newmans impression on how communities cluster is wrong (one node in one communitiy). In real life nodes is in many communities.\n",
    "\n",
    "\n",
    "(Disclaimer - Sune thinks this is wrong because the properties don't hold  when all nodes are connected to many communities)\n",
    "\n",
    "strong community:\n",
    "$$k_{i}^{in}(V) > k_{i}^{out}(V), \\forall i \\in V.$$\n",
    "\n",
    "weak community:\n",
    "$$\\sum_{i \\in V} k_{i}^{in}(V) > \\sum_{i \\in V} k_{i}^{out}(V).$$\n",
    "\n",
    "\n"
   ]
  },
  {
   "cell_type": "markdown",
   "id": "898ffaec",
   "metadata": {},
   "source": [
    "### Hierarchical Structure\n",
    "This again runs into trouble with the one node one community idea, given that would entail that you also only can be placed in one particular place in the hiearchy eventhough you usually would be place in many."
   ]
  },
  {
   "cell_type": "markdown",
   "id": "10919c7f",
   "metadata": {},
   "source": [
    "The solution is that the nodes should fit within a community but the edges should not."
   ]
  },
  {
   "cell_type": "markdown",
   "id": "6cab2263",
   "metadata": {},
   "source": [
    "# Exercises\n",
    "\n"
   ]
  },
  {
   "cell_type": "markdown",
   "id": "493b5d31",
   "metadata": {},
   "source": [
    "## Exercise 1  - Karate club\n",
    "\n",
    "1) Visualize the Karate club dataset and set node color to club split"
   ]
  },
  {
   "cell_type": "code",
   "execution_count": 1,
   "id": "97d12b84",
   "metadata": {},
   "outputs": [],
   "source": [
    "import networkx as nx\n",
    "from netwulf import visualize\n",
    "import matplotlib.pyplot as plt\n",
    "import netwulf\n",
    "from networkx import Graph\n",
    "import networkx.algorithms.community as nx_comm\n",
    "import numpy as np\n",
    "import matplotlib as mpl\n",
    "import matplotlib.pyplot as plt\n",
    "from tqdm import tqdm"
   ]
  },
  {
   "cell_type": "code",
   "execution_count": 180,
   "id": "378b8093",
   "metadata": {},
   "outputs": [],
   "source": [
    "def setup_mpl():\n",
    "    mpl.rcParams['font.family'] = 'Times New Roman'\n",
    "    return\n",
    "setup_mpl()"
   ]
  },
  {
   "cell_type": "code",
   "execution_count": 3,
   "id": "a4468b93",
   "metadata": {},
   "outputs": [
    {
     "data": {
      "image/png": "[encoded data removed]",
      "text/plain": [
       "<Figure size 480x480 with 1 Axes>"
      ]
     },
     "metadata": {},
     "output_type": "display_data"
    }
   ],
   "source": [
    "G = nx.karate_club_graph()\n",
    "with plt.style.context('classic'):\n",
    "    network, config = visualize(netwulf.get_filtered_network(G, node_group_key='club'), plot_in_cell_below=False)\n",
    "    fig, ax = netwulf.draw_netwulf(network)\n",
    "    "
   ]
  },
  {
   "cell_type": "markdown",
   "id": "16591e3f",
   "metadata": {},
   "source": [
    "Write a function to compute the modularity of a graph partitioning (use equation 9.12 in the book). The function should take a networkX Graph and a partitioning as inputs and return the modularity.\n",
    "\n",
    "$$M = \\sum_{c=1}^{n_c} \\frac{L_{c}}{L} - (\\frac{k_c}{2L})^2$$\n",
    "\n",
    "where $L_c$ is the total number of links within the community $C_c$, and $k_c$ is the total degree of the nodes within this community. And L is the total number of links.\n"
   ]
  },
  {
   "cell_type": "code",
   "execution_count": 4,
   "id": "39929b88",
   "metadata": {},
   "outputs": [],
   "source": [
    "def modularity(G: Graph, partitioning: list) -> float:\n",
    "    L = len(G.edges())\n",
    "    M = 0\n",
    "    for partion in partitioning:\n",
    "        subgraph = G.subgraph(partion).copy()\n",
    "        L_c = subgraph.number_of_edges()\n",
    "        K_c = sum(G.degree[node] for node in subgraph.nodes())\n",
    "        M += (L_c/L) - (K_c/(2*L))**2\n",
    "    return M"
   ]
  },
  {
   "cell_type": "code",
   "execution_count": 5,
   "id": "c6e9e510",
   "metadata": {},
   "outputs": [
    {
     "data": {
      "text/plain": [
       "-0.061801446416830996"
      ]
     },
     "execution_count": 5,
     "metadata": {},
     "output_type": "execute_result"
    }
   ],
   "source": [
    "#Trying making a random partion first\n",
    "import random\n",
    "X = [i for i in range(1,35)]\n",
    "random.shuffle(X)\n",
    "partitions = [X[17:], X[:17]]\n",
    "modularity(G, partitions)"
   ]
  },
  {
   "cell_type": "code",
   "execution_count": 6,
   "id": "43abf952",
   "metadata": {},
   "outputs": [],
   "source": [
    "#Making optimal partition based on club splits\n",
    "hi = {key for (key, value) in dict(nx.get_node_attributes(G, \"club\")).items() if value == 'Mr. Hi'}\n",
    "officer = {key for (key, value) in dict(nx.get_node_attributes(G, \"club\")).items() if value == 'Officer'}"
   ]
  },
  {
   "cell_type": "code",
   "execution_count": 7,
   "id": "6ccb4a0f",
   "metadata": {},
   "outputs": [
    {
     "data": {
      "text/plain": [
       "(0.3582347140039447, 0.3582347140039448)"
      ]
     },
     "execution_count": 7,
     "metadata": {},
     "output_type": "execute_result"
    }
   ],
   "source": [
    "modularity(G, [hi, officer]), nx_comm.modularity(G, [hi, officer])"
   ]
  },
  {
   "cell_type": "markdown",
   "id": "93f5a300",
   "metadata": {},
   "source": [
    "There is something a bit fishy here. "
   ]
  },
  {
   "cell_type": "markdown",
   "id": "cda3167f",
   "metadata": {},
   "source": [
    "Explain in your own words the concept of modularity.\n",
    "Answer: Modularity is a measure of how much the trace deviates from the trace of a random network. Hence, it is a measure of how much the network deivates from the expected number of edges between communities."
   ]
  },
  {
   "cell_type": "markdown",
   "id": "66b6be41",
   "metadata": {},
   "source": [
    "Compute the modularity of the Karate club split partitioning using the function you just wrote. Note: the Karate club split partitioning is avilable as a node attribute, called \"club\".\n",
    "Answer: Already done look above."
   ]
  },
  {
   "cell_type": "markdown",
   "id": "e8c524ab",
   "metadata": {},
   "source": [
    "We will now perform a small randomization experiment to assess if the modularity you just computed is statitically different from 0. To do so, we will implement the double edge swap algorithm. The double edge swap algorithm is quite old... it was implemented in 1891 (!) by Danish mathematician Julius Petersen(https://en.wikipedia.org/wiki/Julius_Petersen). Given a network G, this algorithm creates a new network, such that each node has exactly the same degree as in the original network, but different connections. Here is how the algorithm works:\n",
    "1) Create an identical copy of your original network.\n",
    "2) Consider two edges in your new network (u,v) and (x,y), such that u!=v and v!=x.\n",
    "3) If none of edges (u,y) and (x,v) exists already, add them to the network and remove edges (u,v) and (x,y).\n",
    "Repeat steps b. and c. to achieve at least N swaps (I suggest N to be larger than the number of edges)."
   ]
  },
  {
   "cell_type": "code",
   "execution_count": 8,
   "id": "a3da47bf",
   "metadata": {},
   "outputs": [],
   "source": [
    "def double_edge_swap(G: Graph, N: int)->Graph:\n",
    "    G_random = G.copy()\n",
    "    num_swaps = 0\n",
    "    while num_swaps < N:\n",
    "        edges = list(G_random.edges)\n",
    "        non_edges = list(nx.non_edges(G_random))\n",
    "        (u, v) = random.choice(edges)\n",
    "        (x, y) = random.choice(edges)\n",
    "        if u==x or v==y: #Skipping due to same source or target\n",
    "            continue \n",
    "        if (u,x) in non_edges and (v, y) in non_edges:\n",
    "            G_random.add_edges_from([(u,x), (v, y)])\n",
    "            G_random.remove_edges_from([(u, v), (x, y)])\n",
    "            num_swaps += 1\n",
    "    return G_random"
   ]
  },
  {
   "cell_type": "code",
   "execution_count": 9,
   "id": "7e9e5e83",
   "metadata": {},
   "outputs": [
    {
     "data": {
      "text/plain": [
       "(156, 156)"
      ]
     },
     "execution_count": 9,
     "metadata": {},
     "output_type": "execute_result"
    }
   ],
   "source": [
    "G_random = double_edge_swap(G, G.number_of_edges() + 10) #Pick N > L\n",
    "sum(dict(G_random.degree()).values()), sum(dict(G.degree()).values())"
   ]
  },
  {
   "cell_type": "markdown",
   "id": "ba3766ec",
   "metadata": {},
   "source": [
    "Create 1000 randomized version of the Karate Club network using the double edge swap algorithm you wrote in step 5. For each of them, compute the modularity of the \"club\" split and store it in a list."
   ]
  },
  {
   "cell_type": "code",
   "execution_count": 10,
   "id": "884e8a18",
   "metadata": {},
   "outputs": [
    {
     "name": "stderr",
     "output_type": "stream",
     "text": [
      "100%|██████████████████████████████████████████████████████████████████████████| 1001/1001 [01:29<00:00, 11.16it/s]\n"
     ]
    }
   ],
   "source": [
    "random_mods = []\n",
    "for _ in tqdm(range(1001)):\n",
    "    G_random = double_edge_swap(G, G.number_of_edges() + 10)\n",
    "    random_mods.append(modularity(G_random, [hi, officer]))"
   ]
  },
  {
   "cell_type": "code",
   "execution_count": 11,
   "id": "3a167f77",
   "metadata": {},
   "outputs": [
    {
     "name": "stdout",
     "output_type": "stream",
     "text": [
      "The average modularity: 0.001386434078741705, the std: 0.04739569454321796\n"
     ]
    }
   ],
   "source": [
    "print(f'The average modularity: {np.mean(random_mods)}, the std: {np.std(random_mods)}')"
   ]
  },
  {
   "cell_type": "code",
   "execution_count": 12,
   "id": "a19a06b4",
   "metadata": {},
   "outputs": [
    {
     "data": {
      "text/plain": [
       "<matplotlib.legend.Legend at 0x7fac312869a0>"
      ]
     },
     "execution_count": 12,
     "metadata": {},
     "output_type": "execute_result"
    },
    {
     "data": {
      "image/png": "[encoded data removed]",
      "text/plain": [
       "<Figure size 1000x500 with 1 Axes>"
      ]
     },
     "metadata": {},
     "output_type": "display_data"
    }
   ],
   "source": [
    "plt.style.use('dark_background')\n",
    "fig, ax = plt.subplots(figsize=(10,5), dpi=100)\n",
    "ax.hist(random_mods, label=\"Random modularity\", bins=5)\n",
    "ax.axvline(modularity(G, [hi, officer]), linestyle='--', color='r', label=\"Optimal modularity\")\n",
    "ax.set_title(\"Modularities \\n Random and original club split\")\n",
    "ax.set_ylabel(\"Modularity\")\n",
    "ax.legend()"
   ]
  },
  {
   "cell_type": "markdown",
   "id": "15f9a118",
   "metadata": {},
   "source": [
    "Comment on the figure. Is the club split a good partitioning? Why do you think I asked you to perform a randomization experiment? What is the reason why we preserved the nodes degree?\n",
    "Answer: It would be justifiable to argue that the club split is a decent partition given that the above visualization demonstrates that it has fewer edges between the two communities than expected at random, which is also the reason why, we perform the randomization experiment. The preservation of node degrees is due to the fact that we meerely swap edges, which entails that when we remove an edge we also add an edge, thereby gaurenteeing preservation of the node degree."
   ]
  },
  {
   "cell_type": "markdown",
   "id": "6641a295",
   "metadata": {},
   "source": [
    "Use the Python Louvain-algorithm implementation to find communities in this graph. Report the value of modularity found by the algorithm. Is it higher or lower than what you found above for the club split? What does this comparison reveal?"
   ]
  },
  {
   "cell_type": "code",
   "execution_count": 14,
   "id": "300ab8f7",
   "metadata": {},
   "outputs": [],
   "source": [
    "from community import community_louvain"
   ]
  },
  {
   "cell_type": "code",
   "execution_count": 28,
   "id": "3d604a35",
   "metadata": {},
   "outputs": [
    {
     "data": {
      "text/plain": [
       "(0.4188034188034188, 0.3582347140039447)"
      ]
     },
     "execution_count": 28,
     "metadata": {},
     "output_type": "execute_result"
    }
   ],
   "source": [
    "partition = community_louvain.best_partition(G)\n",
    "partition_dict = {item: set() for (key, item) in partition.items()}\n",
    "for (key, item) in partition.items():\n",
    "    partition_dict[item].add(key)\n",
    "modularity(G, list(partition_dict.values())), modularity(G, [hi, officer])"
   ]
  },
  {
   "cell_type": "markdown",
   "id": "d36586ef",
   "metadata": {},
   "source": [
    "The modularity is in fact higher for the communities found by the louvain algorithm, which indicates that it is in fact more probable that there is four communities rather than two. This suggest that there is in fact subcommunities within the two karate clubs, which could be believable. The dataset is made on who the individuals interact with outside the karate club, and it could very well be the case that people have joined the karate clubs from different sub communities, which is something we aswell can recognize, I am more likely to join the same karate club as my friend is apart of."
   ]
  },
  {
   "cell_type": "markdown",
   "id": "1baff2ee",
   "metadata": {},
   "source": [
    "Compare the communities found by the Louvain algorithm with the club split partitioning by creating a matrix D with dimension (2 times A), where A is the number of communities found by Louvain. We set entry D(i,j) to be the number of nodes that community i has in common with group split j. The matrix D is what we call a confusion matrix. Use the confusion matrix to explain how well the communities you've detected correspond to the club split partitioning."
   ]
  },
  {
   "cell_type": "code",
   "execution_count": 33,
   "id": "b5f442b2",
   "metadata": {},
   "outputs": [
    {
     "data": {
      "text/plain": [
       "array([[ 1., 11.,  0.,  5.],\n",
       "       [10.,  1.,  6.,  0.]])"
      ]
     },
     "execution_count": 33,
     "metadata": {},
     "output_type": "execute_result"
    }
   ],
   "source": [
    "D = np.zeros((2, len(partition_dict.keys())))\n",
    "for i in range(D.shape[0]):\n",
    "    for j in range(D.shape[1]):\n",
    "        D[i, j] = sum([1 for x in partition_dict[j] if x in [hi, officer][i]])\n",
    "D"
   ]
  },
  {
   "cell_type": "markdown",
   "id": "0615b0b1",
   "metadata": {},
   "source": [
    "We can see that it almost agrees with the club split partitioning but that it has two nodes which it classifies differently. We can then also see that the algorithm finds more communities than the club split as addressed previously."
   ]
  },
  {
   "cell_type": "markdown",
   "id": "c065b9da",
   "metadata": {},
   "source": [
    "## Part 2: Comparing partitions\n",
    "Section 9.6 of the Network Science book dicusses how to test the accuracy of community detection algorithms on networks with predefined community structure. This involves measuring the similarity between the predefined structure and the communities identified by a given community detection algorithm. There are many ways for comparing partitions (for an extensive review, see this article). The book introduces the widely used normalized mutual information (eq. 9.19). We are going to learn more about it and implemement it!"
   ]
  },
  {
   "cell_type": "markdown",
   "id": "9a268af8",
   "metadata": {},
   "source": [
    "Exercise 2: Mutual Information: In the exercise above, we computed the confusion matrix to compare the communities found by the Louvain method with the \"club\" split. In this exercise, we will compare the two using the Normalized Mutual Information (see eq. 9.19 in your Network Science Book)."
   ]
  },
  {
   "cell_type": "markdown",
   "id": "c9932b69",
   "metadata": {},
   "source": [
    "Write a function that, given as input a list of discrete items, returns a dictionary containing the probability of each unique value in the list. For example, given as input the list [1,1,0,1,2], the function should return the following dictionary {1:0.6,0:0.2,2:0.2}."
   ]
  },
  {
   "cell_type": "code",
   "execution_count": 34,
   "id": "28ba7039",
   "metadata": {},
   "outputs": [],
   "source": [
    "from collections import Counter\n",
    "def get_prob(L: list)->dict:\n",
    "    N = len(L)\n",
    "    return {key: item/N for (key, item) in Counter(L).items()}"
   ]
  },
  {
   "cell_type": "code",
   "execution_count": 35,
   "id": "211c56e7",
   "metadata": {},
   "outputs": [
    {
     "data": {
      "text/plain": [
       "{1: 0.6, 0: 0.2, 2: 0.2}"
      ]
     },
     "execution_count": 35,
     "metadata": {},
     "output_type": "execute_result"
    }
   ],
   "source": [
    "get_prob([1,1,0,1,2])"
   ]
  },
  {
   "cell_type": "markdown",
   "id": "5a386d19",
   "metadata": {},
   "source": [
    "Loop through the nodes of your Zachary Karate Club network. For each node, find the corresponding club (either \"Mr Hi\" or \"Officer\") and store it in a list l1. Compute the probability p(x) of each club x using the function you computed above."
   ]
  },
  {
   "cell_type": "code",
   "execution_count": 38,
   "id": "a0e3beb0",
   "metadata": {},
   "outputs": [
    {
     "name": "stdout",
     "output_type": "stream",
     "text": [
      "The probabilities: {'Mr. Hi': 0.5, 'Officer': 0.5}\n"
     ]
    }
   ],
   "source": [
    "clubs = list(dict(nx.get_node_attributes(G, \"club\")).values())\n",
    "print(f'The probabilities: {get_prob(clubs)}')"
   ]
  },
  {
   "cell_type": "code",
   "execution_count": 43,
   "id": "bbccf72f",
   "metadata": {},
   "outputs": [
    {
     "name": "stdout",
     "output_type": "stream",
     "text": [
      "The probabilities: {'Mr. Hi': 0.5, 'Officer': 0.5}\n"
     ]
    }
   ],
   "source": [
    "l1 = [G.nodes[node]['club'] for node in G.nodes()]\n",
    "print(f'The probabilities: {get_prob(l1)}')"
   ]
  },
  {
   "cell_type": "markdown",
   "id": "62ef552a",
   "metadata": {},
   "source": [
    "Loop again through the nodes of your Zachary Karate Club (in the same order as you did in step 1.). For each node, find the corresponding Louvain community, and store it in a list l2. Compute the probability p(y) for each Louvain community y using your function."
   ]
  },
  {
   "cell_type": "code",
   "execution_count": 47,
   "id": "9000e3d5",
   "metadata": {},
   "outputs": [
    {
     "name": "stdout",
     "output_type": "stream",
     "text": [
      "The probabilities: {1: 0.35294117647058826, 3: 0.14705882352941177, 0: 0.3235294117647059, 2: 0.17647058823529413}\n"
     ]
    }
   ],
   "source": [
    "l2 = [partition[node] for node in G.nodes()]\n",
    "print(f'The probabilities: {get_prob(l2)}')"
   ]
  },
  {
   "cell_type": "markdown",
   "id": "2803307d",
   "metadata": {},
   "source": [
    "Loop again through the nodes of your Zachary Karate Club (in the same order!). This time, build a list of tuples l3, such that the first value in the tuple is club and the second is the Louvain community. Compute the probability p(x,y) for each tuple (x,y) in your list using the function you wrote in step 1."
   ]
  },
  {
   "cell_type": "code",
   "execution_count": 49,
   "id": "b2d59276",
   "metadata": {},
   "outputs": [
    {
     "data": {
      "text/plain": [
       "{('Mr. Hi', 1): 0.3235294117647059,\n",
       " ('Mr. Hi', 3): 0.14705882352941177,\n",
       " ('Mr. Hi', 0): 0.029411764705882353,\n",
       " ('Officer', 1): 0.029411764705882353,\n",
       " ('Officer', 0): 0.29411764705882354,\n",
       " ('Officer', 2): 0.17647058823529413}"
      ]
     },
     "execution_count": 49,
     "metadata": {},
     "output_type": "execute_result"
    }
   ],
   "source": [
    "l3 = [(G.nodes[node][\"club\"], partition[node]) for node in G.nodes()]\n",
    "get_prob(l3)"
   ]
  },
  {
   "cell_type": "markdown",
   "id": "3715450b",
   "metadata": {},
   "source": [
    "Compute the Shannon entropy of the Karate Club split. Remember that the entropy of a variable X\n",
    " is defined as H(X)=−∑xp(x)log(p(x))\n",
    ". Here the sum runs over the two clubs: \"Mr Hi\" and \"Officer\". You need the probabilities you computed in step 2."
   ]
  },
  {
   "cell_type": "code",
   "execution_count": 97,
   "id": "b59462de",
   "metadata": {},
   "outputs": [],
   "source": [
    "def entropy(X: list, condition=False)->float:\n",
    "    probs = get_prob(X)\n",
    "    entropy = 0\n",
    "    if condition:\n",
    "        temp = [y for (x,y) in X]\n",
    "        probs_y = get_prob(temp)\n",
    "        for i in probs.keys():\n",
    "            entropy += probs[i]*np.log(probs[i]/probs_y[i[1]])\n",
    "    else:\n",
    "        for i in probs.keys():\n",
    "            entropy += probs[i]*np.log(probs[i])\n",
    "    return entropy"
   ]
  },
  {
   "cell_type": "code",
   "execution_count": 94,
   "id": "beb9a61e",
   "metadata": {},
   "outputs": [
    {
     "data": {
      "text/plain": [
       "-0.6931471805599453"
      ]
     },
     "execution_count": 94,
     "metadata": {},
     "output_type": "execute_result"
    }
   ],
   "source": [
    "entropy(l1)"
   ]
  },
  {
   "cell_type": "code",
   "execution_count": 95,
   "id": "343b9fd2",
   "metadata": {},
   "outputs": [
    {
     "data": {
      "text/plain": [
       "-1.3206701076815464"
      ]
     },
     "execution_count": 95,
     "metadata": {},
     "output_type": "execute_result"
    }
   ],
   "source": [
    "entropy(l2)"
   ]
  },
  {
   "cell_type": "code",
   "execution_count": 98,
   "id": "c666f36f",
   "metadata": {},
   "outputs": [
    {
     "data": {
      "text/plain": [
       "-0.19979496669163377"
      ]
     },
     "execution_count": 98,
     "metadata": {},
     "output_type": "execute_result"
    }
   ],
   "source": [
    "entropy(l3, condition=True)"
   ]
  },
  {
   "cell_type": "markdown",
   "id": "d3ae8720",
   "metadata": {},
   "source": [
    "Now, compute the mutual information I(X;Y)=H(X)−H(X|Y). Compare your result with the results you would obtain applying the scikit-learn function mutual_info_score. You should pass the lists l1 and l2 as inputs to your function."
   ]
  },
  {
   "cell_type": "code",
   "execution_count": 139,
   "id": "c57aadcf",
   "metadata": {},
   "outputs": [],
   "source": [
    "def entropy(px: dict)->float:\n",
    "    return -sum(px[i]*np.log(px[i]) for i in px.keys())\n",
    "\n",
    "def conditional_entropy(pxy: dict, py:dict)->float:\n",
    "    return -sum(pxy[idx] * np.log(pxy[idx]/py[idx[1]]) for idx in pxy.keys())"
   ]
  },
  {
   "cell_type": "code",
   "execution_count": 144,
   "id": "c68cf3a1",
   "metadata": {},
   "outputs": [],
   "source": [
    "def mutual_information(x: dict, y: dict, xy: dict, normalized=False)->float:\n",
    "    if normalized:\n",
    "        return (entropy(x) - conditional_entropy(xy, y))/(.5 * entropy(x) + .5 * entropy(y))\n",
    "    else:\n",
    "        return entropy(x) - conditional_entropy(xy, y)"
   ]
  },
  {
   "cell_type": "code",
   "execution_count": 145,
   "id": "a726b2bb",
   "metadata": {},
   "outputs": [
    {
     "data": {
      "text/plain": [
       "0.4933522138683115"
      ]
     },
     "execution_count": 145,
     "metadata": {},
     "output_type": "execute_result"
    }
   ],
   "source": [
    "#prob of l3 is p_xy and prob of l2 is y\n",
    "mutual_information(get_prob(l1), get_prob(l2), get_prob(l3))"
   ]
  },
  {
   "cell_type": "code",
   "execution_count": 146,
   "id": "71fd5e9a",
   "metadata": {},
   "outputs": [
    {
     "data": {
      "text/plain": [
       "0.49335221386831196"
      ]
     },
     "execution_count": 146,
     "metadata": {},
     "output_type": "execute_result"
    }
   ],
   "source": [
    "from sklearn.metrics import mutual_info_score\n",
    "mutual_info_score(l1, l2)"
   ]
  },
  {
   "cell_type": "markdown",
   "id": "07eecb42",
   "metadata": {},
   "source": [
    "Compute the normalized mutual information and compare with sklearn:"
   ]
  },
  {
   "cell_type": "code",
   "execution_count": 147,
   "id": "445b92f2",
   "metadata": {},
   "outputs": [
    {
     "data": {
      "text/plain": [
       "(0.4899672048193782, 0.4899672048193779)"
      ]
     },
     "execution_count": 147,
     "metadata": {},
     "output_type": "execute_result"
    }
   ],
   "source": [
    "from sklearn.metrics import normalized_mutual_info_score\n",
    "normalized_mutual_info_score(l1, l2), mutual_information(get_prob(l1), get_prob(l2), get_prob(l3), normalized=True)"
   ]
  },
  {
   "cell_type": "markdown",
   "id": "0f9e8f1f",
   "metadata": {},
   "source": [
    "What is the point of normalizing the mutual information through dividing it by $$\\frac{1}{2}H(X)+\\frac{1}{2}H(Y)$$\n",
    "\n",
    "Mutual information gives us an estimate of how much information we would gain if we know the variable $Y$ in $I(X,Y)$. However, in order to being able to compare the mutual information score across different partitions which may have different sizes, we have to normalize them. "
   ]
  },
  {
   "cell_type": "markdown",
   "id": "2934649f",
   "metadata": {},
   "source": [
    "We will now perform another randomization test. Shuffle the club split node labels (e.g assign a new group to each node, but keep the size of the \"Officer\" and \"Mr Hi\" groups constant). Measure the normalized mutual information with the Louvain communities using the procedure above. Repeat the procedure 1000\n",
    " times and plot the distribution of the \"random\" normalized mutual information"
   ]
  },
  {
   "cell_type": "code",
   "execution_count": 181,
   "id": "d40fc7b1",
   "metadata": {},
   "outputs": [
    {
     "name": "stderr",
     "output_type": "stream",
     "text": [
      "100%|█████████████████████████████████████████████████████████████████████████| 1001/1001 [00:02<00:00, 340.38it/s]\n"
     ]
    }
   ],
   "source": [
    "def randomize(G):\n",
    "    club_dict = dict(nx.get_node_attributes(G, \"club\"))\n",
    "    values = list(club_dict.values())\n",
    "    random.shuffle(values)\n",
    "    return dict(zip(G.nodes, values))\n",
    "\n",
    "NMIs = []\n",
    "for _ in tqdm(range(1001)):\n",
    "    G_new = G.copy()\n",
    "    node_mapping = randomize(G_new)\n",
    "    nx.set_node_attributes(G_new, node_mapping, name=\"club\")\n",
    "    partition_new = community_louvain.best_partition(G_new)\n",
    "    x = [G_new.nodes[node]['club'] for node in G_new.nodes()]\n",
    "    y = [partition_new[node] for node in G_new.nodes()]\n",
    "    xy = [(G_new.nodes[node][\"club\"], partition_new[node]) for node in G_new.nodes()]\n",
    "    NMIs.append(mutual_information(\n",
    "                            get_prob(x),\n",
    "                            get_prob(y),\n",
    "                            get_prob(xy),\n",
    "                            normalized=True\n",
    "                        )\n",
    "               )"
   ]
  },
  {
   "cell_type": "code",
   "execution_count": 182,
   "id": "29d92c30",
   "metadata": {},
   "outputs": [
    {
     "data": {
      "text/plain": [
       "(0.048328699427241065, 0.03877156375082605)"
      ]
     },
     "execution_count": 182,
     "metadata": {},
     "output_type": "execute_result"
    }
   ],
   "source": [
    "np.mean(NMIs), np.std(NMIs)"
   ]
  },
  {
   "cell_type": "code",
   "execution_count": 183,
   "id": "7d7754d6",
   "metadata": {},
   "outputs": [
    {
     "data": {
      "text/plain": [
       "<matplotlib.legend.Legend at 0x7fac328b6490>"
      ]
     },
     "execution_count": 183,
     "metadata": {},
     "output_type": "execute_result"
    },
    {
     "data": {
      "image/png": "[encoded data removed]",
      "text/plain": [
       "<Figure size 1000x500 with 1 Axes>"
      ]
     },
     "metadata": {},
     "output_type": "display_data"
    }
   ],
   "source": [
    "fig, ax = plt.subplots(figsize=(10,5), dpi=100)\n",
    "ax.hist(NMIs, label=\"Random NMI\", bins=30)\n",
    "ax.axvline(mutual_information(get_prob(l1), get_prob(l2), get_prob(l3), normalized=True), linestyle='--', color='r', label=\"NMI\")\n",
    "ax.set_title(\"Normalized Mutual Information \\n Random and original club split\")\n",
    "ax.set_ylabel(\"NMI\")\n",
    "ax.legend()"
   ]
  },
  {
   "cell_type": "markdown",
   "id": "923ebf47",
   "metadata": {},
   "source": [
    "Based on your analysis, what can you conclude about the similarity of the Louvain communities and the actual club split? Why do you think I asked you to run a randomization test?\n",
    "We can conclude that their is a somewhat correlation between the louvain communities and the club split, given that random permutations of the club split yields far lower Mutual information than the actual split. Thus, we had originally calculated a higher Normalized Mutual Information than expected add random."
   ]
  },
  {
   "cell_type": "markdown",
   "id": "62eb5f67",
   "metadata": {},
   "source": [
    "## Part 3: communities in the GME network.\n",
    "Finally, lets' apply community detection to our favourite network: the GME network. In the following, consider the undirected version of the graph.\n"
   ]
  },
  {
   "cell_type": "code",
   "execution_count": null,
   "id": "dafd77e6",
   "metadata": {},
   "outputs": [],
   "source": []
  }
 ],
 "metadata": {
  "kernelspec": {
   "display_name": "Python 3 (ipykernel)",
   "language": "python",
   "name": "python3"
  },
  "language_info": {
   "codemirror_mode": {
    "name": "ipython",
    "version": 3
   },
   "file_extension": ".py",
   "mimetype": "text/x-python",
   "name": "python",
   "nbconvert_exporter": "python",
   "pygments_lexer": "ipython3",
   "version": "3.8.6"
  }
 },
 "nbformat": 4,
 "nbformat_minor": 5
}
