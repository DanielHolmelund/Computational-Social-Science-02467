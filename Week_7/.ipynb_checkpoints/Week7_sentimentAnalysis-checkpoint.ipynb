{
 "cells": [
  {
   "cell_type": "code",
   "execution_count": 46,
   "metadata": {},
   "outputs": [
    {
     "name": "stderr",
     "output_type": "stream",
     "text": [
      "0it [00:00, ?it/s]\n",
      "TqdmDeprecationWarning: Please use `tqdm.pandas(...)` instead of `tqdm_pandas(tqdm(...))`.\n"
     ]
    }
   ],
   "source": [
    "import pandas as pd\n",
    "import numpy as np\n",
    "import matplotlib.pyplot as plt\n",
    "import nltk\n",
    "import re\n",
    "from nltk import word_tokenize\n",
    "from tqdm import tqdm, tqdm_pandas\n",
    "tqdm_pandas(tqdm())"
   ]
  },
  {
   "cell_type": "code",
   "execution_count": 2,
   "metadata": {},
   "outputs": [
    {
     "data": {
      "text/html": [
       "<div>\n",
       "<style scoped>\n",
       "    .dataframe tbody tr th:only-of-type {\n",
       "        vertical-align: middle;\n",
       "    }\n",
       "\n",
       "    .dataframe tbody tr th {\n",
       "        vertical-align: top;\n",
       "    }\n",
       "\n",
       "    .dataframe thead th {\n",
       "        text-align: right;\n",
       "    }\n",
       "</style>\n",
       "<table border=\"1\" class=\"dataframe\">\n",
       "  <thead>\n",
       "    <tr style=\"text-align: right;\">\n",
       "      <th></th>\n",
       "      <th>Rank</th>\n",
       "      <th>Word</th>\n",
       "      <th>Word in English</th>\n",
       "      <th>Happiness Score</th>\n",
       "      <th>Standard Deviation of Ratings</th>\n",
       "    </tr>\n",
       "  </thead>\n",
       "  <tbody>\n",
       "    <tr>\n",
       "      <th>0</th>\n",
       "      <td>0</td>\n",
       "      <td>laughter</td>\n",
       "      <td>laughter</td>\n",
       "      <td>8.50</td>\n",
       "      <td>0.93</td>\n",
       "    </tr>\n",
       "    <tr>\n",
       "      <th>1</th>\n",
       "      <td>1</td>\n",
       "      <td>happiness</td>\n",
       "      <td>happiness</td>\n",
       "      <td>8.44</td>\n",
       "      <td>0.97</td>\n",
       "    </tr>\n",
       "    <tr>\n",
       "      <th>2</th>\n",
       "      <td>2</td>\n",
       "      <td>love</td>\n",
       "      <td>love</td>\n",
       "      <td>8.42</td>\n",
       "      <td>1.11</td>\n",
       "    </tr>\n",
       "    <tr>\n",
       "      <th>3</th>\n",
       "      <td>3</td>\n",
       "      <td>happy</td>\n",
       "      <td>happy</td>\n",
       "      <td>8.30</td>\n",
       "      <td>0.99</td>\n",
       "    </tr>\n",
       "    <tr>\n",
       "      <th>4</th>\n",
       "      <td>4</td>\n",
       "      <td>laughed</td>\n",
       "      <td>laughed</td>\n",
       "      <td>8.26</td>\n",
       "      <td>1.16</td>\n",
       "    </tr>\n",
       "  </tbody>\n",
       "</table>\n",
       "</div>"
      ],
      "text/plain": [
       "   Rank       Word Word in English  Happiness Score  \\\n",
       "0     0   laughter        laughter             8.50   \n",
       "1     1  happiness       happiness             8.44   \n",
       "2     2       love            love             8.42   \n",
       "3     3      happy           happy             8.30   \n",
       "4     4    laughed         laughed             8.26   \n",
       "\n",
       "   Standard Deviation of Ratings  \n",
       "0                           0.93  \n",
       "1                           0.97  \n",
       "2                           1.11  \n",
       "3                           0.99  \n",
       "4                           1.16  "
      ]
     },
     "execution_count": 2,
     "metadata": {},
     "output_type": "execute_result"
    }
   ],
   "source": [
    "labMT = pd.read_csv(\"Hedonometer.csv\")\n",
    "labMT.head()\n",
    "\n"
   ]
  },
  {
   "cell_type": "markdown",
   "metadata": {},
   "source": [
    "What are the top 10 words by happiness score, and the bottom 10? Does this surprise you?\n",
    "- Both the top and bottom words sorted by happiness score are to be expected. (see below)"
   ]
  },
  {
   "cell_type": "code",
   "execution_count": 3,
   "metadata": {},
   "outputs": [
    {
     "name": "stdout",
     "output_type": "stream",
     "text": [
      "Top words:\n",
      "0     laughter\n",
      "1    happiness\n",
      "2         love\n",
      "3        happy\n",
      "4      laughed\n",
      "5        laugh\n",
      "6     laughing\n",
      "8       laughs\n",
      "7    excellent\n",
      "9          joy\n",
      "Name: Word, dtype: object\n",
      "Bottom words:\n",
      "10168        suicide\n",
      "10169      terrorist\n",
      "10171    coronavirus\n",
      "10167           rape\n",
      "10165         murder\n",
      "10166      terrorism\n",
      "10163         cancer\n",
      "10164          death\n",
      "10160           died\n",
      "10161           kill\n",
      "Name: Word, dtype: object\n"
     ]
    }
   ],
   "source": [
    "print(f\"Top words:\")\n",
    "print(labMT.sort_values(by = [\"Happiness Score\"], ascending = False)[0:10][\"Word\"])\n",
    "print(f\"Bottom words:\")\n",
    "print(labMT.sort_values(by = [\"Happiness Score\"], ascending = True)[0:10][\"Word\"])"
   ]
  },
  {
   "cell_type": "markdown",
   "metadata": {},
   "source": [
    "What are the top 20 controversial words (those for which annotators' ratings disagree the most)? Why do you think they are controversial?"
   ]
  },
  {
   "cell_type": "code",
   "execution_count": 4,
   "metadata": {},
   "outputs": [
    {
     "data": {
      "text/html": [
       "<div>\n",
       "<style scoped>\n",
       "    .dataframe tbody tr th:only-of-type {\n",
       "        vertical-align: middle;\n",
       "    }\n",
       "\n",
       "    .dataframe tbody tr th {\n",
       "        vertical-align: top;\n",
       "    }\n",
       "\n",
       "    .dataframe thead th {\n",
       "        text-align: right;\n",
       "    }\n",
       "</style>\n",
       "<table border=\"1\" class=\"dataframe\">\n",
       "  <thead>\n",
       "    <tr style=\"text-align: right;\">\n",
       "      <th></th>\n",
       "      <th>Rank</th>\n",
       "      <th>Word</th>\n",
       "      <th>Word in English</th>\n",
       "      <th>Happiness Score</th>\n",
       "      <th>Standard Deviation of Ratings</th>\n",
       "    </tr>\n",
       "  </thead>\n",
       "  <tbody>\n",
       "    <tr>\n",
       "      <th>8389</th>\n",
       "      <td>8389</td>\n",
       "      <td>fucking</td>\n",
       "      <td>fucking</td>\n",
       "      <td>4.64</td>\n",
       "      <td>2.93</td>\n",
       "    </tr>\n",
       "    <tr>\n",
       "      <th>9211</th>\n",
       "      <td>9211</td>\n",
       "      <td>fuckin</td>\n",
       "      <td>fuckin</td>\n",
       "      <td>3.86</td>\n",
       "      <td>2.74</td>\n",
       "    </tr>\n",
       "    <tr>\n",
       "      <th>9417</th>\n",
       "      <td>9417</td>\n",
       "      <td>fucked</td>\n",
       "      <td>fucked</td>\n",
       "      <td>3.56</td>\n",
       "      <td>2.71</td>\n",
       "    </tr>\n",
       "    <tr>\n",
       "      <th>7990</th>\n",
       "      <td>7990</td>\n",
       "      <td>pussy</td>\n",
       "      <td>pussy</td>\n",
       "      <td>4.80</td>\n",
       "      <td>2.67</td>\n",
       "    </tr>\n",
       "    <tr>\n",
       "      <th>3768</th>\n",
       "      <td>3768</td>\n",
       "      <td>whiskey</td>\n",
       "      <td>whiskey</td>\n",
       "      <td>5.72</td>\n",
       "      <td>2.64</td>\n",
       "    </tr>\n",
       "    <tr>\n",
       "      <th>9410</th>\n",
       "      <td>9410</td>\n",
       "      <td>slut</td>\n",
       "      <td>slut</td>\n",
       "      <td>3.57</td>\n",
       "      <td>2.63</td>\n",
       "    </tr>\n",
       "    <tr>\n",
       "      <th>9600</th>\n",
       "      <td>9600</td>\n",
       "      <td>cigarettes</td>\n",
       "      <td>cigarettes</td>\n",
       "      <td>3.31</td>\n",
       "      <td>2.60</td>\n",
       "    </tr>\n",
       "    <tr>\n",
       "      <th>8991</th>\n",
       "      <td>8991</td>\n",
       "      <td>fuck</td>\n",
       "      <td>fuck</td>\n",
       "      <td>4.14</td>\n",
       "      <td>2.58</td>\n",
       "    </tr>\n",
       "    <tr>\n",
       "      <th>8748</th>\n",
       "      <td>8748</td>\n",
       "      <td>mortality</td>\n",
       "      <td>mortality</td>\n",
       "      <td>4.38</td>\n",
       "      <td>2.55</td>\n",
       "    </tr>\n",
       "    <tr>\n",
       "      <th>9715</th>\n",
       "      <td>9715</td>\n",
       "      <td>cigarette</td>\n",
       "      <td>cigarette</td>\n",
       "      <td>3.09</td>\n",
       "      <td>2.52</td>\n",
       "    </tr>\n",
       "    <tr>\n",
       "      <th>9997</th>\n",
       "      <td>9997</td>\n",
       "      <td>motherfuckers</td>\n",
       "      <td>motherfuckers</td>\n",
       "      <td>2.51</td>\n",
       "      <td>2.47</td>\n",
       "    </tr>\n",
       "    <tr>\n",
       "      <th>3799</th>\n",
       "      <td>3799</td>\n",
       "      <td>churches</td>\n",
       "      <td>churches</td>\n",
       "      <td>5.70</td>\n",
       "      <td>2.46</td>\n",
       "    </tr>\n",
       "    <tr>\n",
       "      <th>9933</th>\n",
       "      <td>9933</td>\n",
       "      <td>motherfucking</td>\n",
       "      <td>motherfucking</td>\n",
       "      <td>2.64</td>\n",
       "      <td>2.46</td>\n",
       "    </tr>\n",
       "    <tr>\n",
       "      <th>6379</th>\n",
       "      <td>6379</td>\n",
       "      <td>capitalism</td>\n",
       "      <td>capitalism</td>\n",
       "      <td>5.16</td>\n",
       "      <td>2.45</td>\n",
       "    </tr>\n",
       "    <tr>\n",
       "      <th>8963</th>\n",
       "      <td>8963</td>\n",
       "      <td>porn</td>\n",
       "      <td>porn</td>\n",
       "      <td>4.18</td>\n",
       "      <td>2.43</td>\n",
       "    </tr>\n",
       "    <tr>\n",
       "      <th>9707</th>\n",
       "      <td>9707</td>\n",
       "      <td>execution</td>\n",
       "      <td>execution</td>\n",
       "      <td>3.10</td>\n",
       "      <td>2.39</td>\n",
       "    </tr>\n",
       "    <tr>\n",
       "      <th>2912</th>\n",
       "      <td>2912</td>\n",
       "      <td>beer</td>\n",
       "      <td>beer</td>\n",
       "      <td>5.92</td>\n",
       "      <td>2.39</td>\n",
       "    </tr>\n",
       "    <tr>\n",
       "      <th>1514</th>\n",
       "      <td>1514</td>\n",
       "      <td>summer</td>\n",
       "      <td>summer</td>\n",
       "      <td>6.40</td>\n",
       "      <td>2.39</td>\n",
       "    </tr>\n",
       "    <tr>\n",
       "      <th>9127</th>\n",
       "      <td>9127</td>\n",
       "      <td>zombies</td>\n",
       "      <td>zombies</td>\n",
       "      <td>4.00</td>\n",
       "      <td>2.37</td>\n",
       "    </tr>\n",
       "    <tr>\n",
       "      <th>1828</th>\n",
       "      <td>1828</td>\n",
       "      <td>wines</td>\n",
       "      <td>wines</td>\n",
       "      <td>6.28</td>\n",
       "      <td>2.37</td>\n",
       "    </tr>\n",
       "  </tbody>\n",
       "</table>\n",
       "</div>"
      ],
      "text/plain": [
       "      Rank           Word Word in English  Happiness Score  \\\n",
       "8389  8389        fucking         fucking             4.64   \n",
       "9211  9211         fuckin          fuckin             3.86   \n",
       "9417  9417         fucked          fucked             3.56   \n",
       "7990  7990          pussy           pussy             4.80   \n",
       "3768  3768        whiskey         whiskey             5.72   \n",
       "9410  9410           slut            slut             3.57   \n",
       "9600  9600     cigarettes      cigarettes             3.31   \n",
       "8991  8991           fuck            fuck             4.14   \n",
       "8748  8748      mortality       mortality             4.38   \n",
       "9715  9715      cigarette       cigarette             3.09   \n",
       "9997  9997  motherfuckers   motherfuckers             2.51   \n",
       "3799  3799       churches        churches             5.70   \n",
       "9933  9933  motherfucking   motherfucking             2.64   \n",
       "6379  6379     capitalism      capitalism             5.16   \n",
       "8963  8963           porn            porn             4.18   \n",
       "9707  9707      execution       execution             3.10   \n",
       "2912  2912           beer            beer             5.92   \n",
       "1514  1514         summer          summer             6.40   \n",
       "9127  9127        zombies         zombies             4.00   \n",
       "1828  1828          wines           wines             6.28   \n",
       "\n",
       "      Standard Deviation of Ratings  \n",
       "8389                           2.93  \n",
       "9211                           2.74  \n",
       "9417                           2.71  \n",
       "7990                           2.67  \n",
       "3768                           2.64  \n",
       "9410                           2.63  \n",
       "9600                           2.60  \n",
       "8991                           2.58  \n",
       "8748                           2.55  \n",
       "9715                           2.52  \n",
       "9997                           2.47  \n",
       "3799                           2.46  \n",
       "9933                           2.46  \n",
       "6379                           2.45  \n",
       "8963                           2.43  \n",
       "9707                           2.39  \n",
       "2912                           2.39  \n",
       "1514                           2.39  \n",
       "9127                           2.37  \n",
       "1828                           2.37  "
      ]
     },
     "execution_count": 4,
     "metadata": {},
     "output_type": "execute_result"
    }
   ],
   "source": [
    "# Most controversial words\n",
    "labMT.sort_values(by = [\"Standard Deviation of Ratings\"], ascending = False)[0:20]"
   ]
  },
  {
   "cell_type": "markdown",
   "metadata": {},
   "source": [
    "Some of the controversial word are related to some sort of pleasure, that also have some health implications or social sigmas when overendulged. Words like Whiskey, cigarettes, porn, beer, wines. \n",
    "Other words like fucking, fuckin, fuck, motherfucking both function as swear words and strength markers. \n",
    "Generally, as expected, words with a high level of controversy have different meanings dependent on the context."
   ]
  },
  {
   "cell_type": "code",
   "execution_count": 5,
   "metadata": {},
   "outputs": [
    {
     "data": {
      "text/plain": [
       "<AxesSubplot:>"
      ]
     },
     "execution_count": 5,
     "metadata": {},
     "output_type": "execute_result"
    },
    {
     "data": {
      "image/png": "[encoded data removed]",
      "text/plain": [
       "<Figure size 432x288 with 1 Axes>"
      ]
     },
     "metadata": {
      "needs_background": "light"
     },
     "output_type": "display_data"
    }
   ],
   "source": [
    "labMT[\"Happiness Score\"].hist() # Make the plot nicer at some point - bins"
   ]
  },
  {
   "cell_type": "markdown",
   "metadata": {},
   "source": [
    "The Pollyanna hypo says we as human evaluate positive words more frequently than negative words. The histgram support the as the data is more skewed towards the right side of the mean."
   ]
  },
  {
   "cell_type": "markdown",
   "metadata": {},
   "source": [
    "Using the labMT data, create a function that, given a document (list of tokens), returns the corresponding \"Happiness Score\" (see equation 1 in the article). Words that do not exist in the labMT dataset can be ignored."
   ]
  },
  {
   "cell_type": "code",
   "execution_count": 36,
   "metadata": {},
   "outputs": [],
   "source": [
    "def find_the_happiness(tokens, happiness_df):\n",
    "    # Initialize happiness\n",
    "    happiness = 0\n",
    "    \n",
    "    #Tokenize the text\n",
    "    #tokens = word_tokenize(text)\n",
    "    #tokens = [word.lower() for word in text if word.isalpha()]\n",
    "    #print(tokens)\n",
    "    \n",
    "    freq_dict = nltk.FreqDist(tokens)\n",
    "    \n",
    "    length_text = len(tokens)\n",
    "    \n",
    "    nor_freq = sum(freq_dict.values()) / len(freq_dict)\n",
    "    \n",
    "    for token in tokens:\n",
    "        if happiness_df[\"Word\"].str.contains(token).any():\n",
    "            happiness += happiness_df.loc[happiness_df[\"Word\"] == token][\"Happiness Score\"].values[0]\n",
    "        else:\n",
    "            length_text -= 1\n",
    "    print(f\"Number of occurances not in the labMT dataset {len(tokens) - length_text}\")\n",
    "    avg_happiness = happiness / nor_freq\n",
    "    return avg_happiness\n",
    "            \n",
    "    "
   ]
  },
  {
   "cell_type": "code",
   "execution_count": 7,
   "metadata": {},
   "outputs": [
    {
     "name": "stdout",
     "output_type": "stream",
     "text": [
      "['my', 'favorite', 'activity', 'is', 'coding', 'all', 'day', 'long', 'i', 'simply', 'love', 'it']\n",
      "Number of occurances not in the labMT dataset 1\n"
     ]
    },
    {
     "data": {
      "text/plain": [
       "24.015483870967742"
      ]
     },
     "execution_count": 7,
     "metadata": {},
     "output_type": "execute_result"
    }
   ],
   "source": [
    "text = \"My favorite activity is coding all day long. I simply love it!\"\n",
    "find_the_happiness(text,labMT)"
   ]
  },
  {
   "cell_type": "code",
   "execution_count": 8,
   "metadata": {},
   "outputs": [
    {
     "data": {
      "text/plain": [
       "{'M': 1,\n",
       " 'y': 4,\n",
       " ' ': 11,\n",
       " 'f': 1,\n",
       " 'a': 4,\n",
       " 'v': 3,\n",
       " 'o': 4,\n",
       " 'r': 1,\n",
       " 'i': 7,\n",
       " 't': 4,\n",
       " 'e': 2,\n",
       " 'c': 2,\n",
       " 's': 2,\n",
       " 'd': 2,\n",
       " 'n': 2,\n",
       " 'g': 2,\n",
       " 'l': 5,\n",
       " '.': 1,\n",
       " 'I': 1,\n",
       " 'm': 1,\n",
       " 'p': 1,\n",
       " '!': 1}"
      ]
     },
     "execution_count": 8,
     "metadata": {},
     "output_type": "execute_result"
    }
   ],
   "source": [
    "freq_dict = dict(nltk.FreqDist(text))\n",
    "\n",
    "freq_dict"
   ]
  },
  {
   "cell_type": "markdown",
   "metadata": {},
   "source": [
    "# Dictionary based methods"
   ]
  },
  {
   "cell_type": "code",
   "execution_count": 9,
   "metadata": {},
   "outputs": [
    {
     "data": {
      "text/html": [
       "<div>\n",
       "<style scoped>\n",
       "    .dataframe tbody tr th:only-of-type {\n",
       "        vertical-align: middle;\n",
       "    }\n",
       "\n",
       "    .dataframe tbody tr th {\n",
       "        vertical-align: top;\n",
       "    }\n",
       "\n",
       "    .dataframe thead th {\n",
       "        text-align: right;\n",
       "    }\n",
       "</style>\n",
       "<table border=\"1\" class=\"dataframe\">\n",
       "  <thead>\n",
       "    <tr style=\"text-align: right;\">\n",
       "      <th></th>\n",
       "      <th>created_utc</th>\n",
       "      <th>title</th>\n",
       "      <th>selftext</th>\n",
       "      <th>score</th>\n",
       "    </tr>\n",
       "  </thead>\n",
       "  <tbody>\n",
       "    <tr>\n",
       "      <th>0</th>\n",
       "      <td>1586173811</td>\n",
       "      <td>What is the Fed actually buying?</td>\n",
       "      <td>Okay, I may actually just be retarded. On my d...</td>\n",
       "      <td>1</td>\n",
       "    </tr>\n",
       "    <tr>\n",
       "      <th>1</th>\n",
       "      <td>1586173320</td>\n",
       "      <td>I didn’t learn about puts because I was lazy</td>\n",
       "      <td>Beginning of the this virus shit, everyone was...</td>\n",
       "      <td>1</td>\n",
       "    </tr>\n",
       "    <tr>\n",
       "      <th>2</th>\n",
       "      <td>1586173268</td>\n",
       "      <td>HOT TAKE</td>\n",
       "      <td>Literally everyone has free time on their hand...</td>\n",
       "      <td>1</td>\n",
       "    </tr>\n",
       "    <tr>\n",
       "      <th>3</th>\n",
       "      <td>1586172639</td>\n",
       "      <td>Fuck you Gordon</td>\n",
       "      <td>Gordon I believed in you, I can't even begin t...</td>\n",
       "      <td>1</td>\n",
       "    </tr>\n",
       "    <tr>\n",
       "      <th>4</th>\n",
       "      <td>1586171822</td>\n",
       "      <td>Can’t find a picture</td>\n",
       "      <td>Someone uploaded a ohoto of the stock market h...</td>\n",
       "      <td>1</td>\n",
       "    </tr>\n",
       "  </tbody>\n",
       "</table>\n",
       "</div>"
      ],
      "text/plain": [
       "   created_utc                                         title  \\\n",
       "0   1586173811              What is the Fed actually buying?   \n",
       "1   1586173320  I didn’t learn about puts because I was lazy   \n",
       "2   1586173268                                      HOT TAKE   \n",
       "3   1586172639                               Fuck you Gordon   \n",
       "4   1586171822                          Can’t find a picture   \n",
       "\n",
       "                                            selftext  score  \n",
       "0  Okay, I may actually just be retarded. On my d...      1  \n",
       "1  Beginning of the this virus shit, everyone was...      1  \n",
       "2  Literally everyone has free time on their hand...      1  \n",
       "3  Gordon I believed in you, I can't even begin t...      1  \n",
       "4  Someone uploaded a ohoto of the stock market h...      1  "
      ]
     },
     "execution_count": 9,
     "metadata": {},
     "output_type": "execute_result"
    }
   ],
   "source": [
    "WSB_submissions = pd.read_csv(\"../Week_6/wallstreet_subs.csv\")\n",
    "WSB_submissions.head()"
   ]
  },
  {
   "cell_type": "code",
   "execution_count": 10,
   "metadata": {},
   "outputs": [
    {
     "name": "stderr",
     "output_type": "stream",
     "text": [
      "82242it [03:27, 396.63it/s]\n"
     ]
    },
    {
     "data": {
      "text/html": [
       "<div>\n",
       "<style scoped>\n",
       "    .dataframe tbody tr th:only-of-type {\n",
       "        vertical-align: middle;\n",
       "    }\n",
       "\n",
       "    .dataframe tbody tr th {\n",
       "        vertical-align: top;\n",
       "    }\n",
       "\n",
       "    .dataframe thead th {\n",
       "        text-align: right;\n",
       "    }\n",
       "</style>\n",
       "<table border=\"1\" class=\"dataframe\">\n",
       "  <thead>\n",
       "    <tr style=\"text-align: right;\">\n",
       "      <th></th>\n",
       "      <th>created_utc</th>\n",
       "      <th>title</th>\n",
       "      <th>selftext</th>\n",
       "      <th>score</th>\n",
       "      <th>text</th>\n",
       "      <th>tokens</th>\n",
       "    </tr>\n",
       "  </thead>\n",
       "  <tbody>\n",
       "    <tr>\n",
       "      <th>0</th>\n",
       "      <td>1586173811</td>\n",
       "      <td>What is the Fed actually buying?</td>\n",
       "      <td>Okay, I may actually just be retarded. On my d...</td>\n",
       "      <td>1</td>\n",
       "      <td>What is the Fed actually buying? Okay, I may a...</td>\n",
       "      <td>[what, is, the, fed, actually, buying, okay, i...</td>\n",
       "    </tr>\n",
       "    <tr>\n",
       "      <th>1</th>\n",
       "      <td>1586173320</td>\n",
       "      <td>I didn’t learn about puts because I was lazy</td>\n",
       "      <td>Beginning of the this virus shit, everyone was...</td>\n",
       "      <td>1</td>\n",
       "      <td>I didn’t learn about puts because I was lazy B...</td>\n",
       "      <td>[i, didn, t, learn, about, puts, because, i, w...</td>\n",
       "    </tr>\n",
       "    <tr>\n",
       "      <th>2</th>\n",
       "      <td>1586173268</td>\n",
       "      <td>HOT TAKE</td>\n",
       "      <td>Literally everyone has free time on their hand...</td>\n",
       "      <td>1</td>\n",
       "      <td>HOT TAKE Literally everyone has free time on t...</td>\n",
       "      <td>[hot, take, literally, everyone, has, free, ti...</td>\n",
       "    </tr>\n",
       "    <tr>\n",
       "      <th>3</th>\n",
       "      <td>1586172639</td>\n",
       "      <td>Fuck you Gordon</td>\n",
       "      <td>Gordon I believed in you, I can't even begin t...</td>\n",
       "      <td>1</td>\n",
       "      <td>Fuck you Gordon Gordon I believed in you, I ca...</td>\n",
       "      <td>[fuck, you, gordon, gordon, i, believed, in, y...</td>\n",
       "    </tr>\n",
       "    <tr>\n",
       "      <th>4</th>\n",
       "      <td>1586171822</td>\n",
       "      <td>Can’t find a picture</td>\n",
       "      <td>Someone uploaded a ohoto of the stock market h...</td>\n",
       "      <td>1</td>\n",
       "      <td>Can’t find a picture Someone uploaded a ohoto ...</td>\n",
       "      <td>[can, t, find, a, picture, someone, uploaded, ...</td>\n",
       "    </tr>\n",
       "  </tbody>\n",
       "</table>\n",
       "</div>"
      ],
      "text/plain": [
       "   created_utc                                         title  \\\n",
       "0   1586173811              What is the Fed actually buying?   \n",
       "1   1586173320  I didn’t learn about puts because I was lazy   \n",
       "2   1586173268                                      HOT TAKE   \n",
       "3   1586172639                               Fuck you Gordon   \n",
       "4   1586171822                          Can’t find a picture   \n",
       "\n",
       "                                            selftext  score  \\\n",
       "0  Okay, I may actually just be retarded. On my d...      1   \n",
       "1  Beginning of the this virus shit, everyone was...      1   \n",
       "2  Literally everyone has free time on their hand...      1   \n",
       "3  Gordon I believed in you, I can't even begin t...      1   \n",
       "4  Someone uploaded a ohoto of the stock market h...      1   \n",
       "\n",
       "                                                text  \\\n",
       "0  What is the Fed actually buying? Okay, I may a...   \n",
       "1  I didn’t learn about puts because I was lazy B...   \n",
       "2  HOT TAKE Literally everyone has free time on t...   \n",
       "3  Fuck you Gordon Gordon I believed in you, I ca...   \n",
       "4  Can’t find a picture Someone uploaded a ohoto ...   \n",
       "\n",
       "                                              tokens  \n",
       "0  [what, is, the, fed, actually, buying, okay, i...  \n",
       "1  [i, didn, t, learn, about, puts, because, i, w...  \n",
       "2  [hot, take, literally, everyone, has, free, ti...  \n",
       "3  [fuck, you, gordon, gordon, i, believed, in, y...  \n",
       "4  [can, t, find, a, picture, someone, uploaded, ...  "
      ]
     },
     "execution_count": 10,
     "metadata": {},
     "output_type": "execute_result"
    }
   ],
   "source": [
    "\n",
    "# Tokenize the text of each submission (use the code you created in Week 6, exercise 3, point 2). \n",
    "# Add it in a new column of your dataframe called \"tokens\".\n",
    "WSB_submissions['text'] = WSB_submissions['title'] + ' ' + WSB_submissions['selftext']\n",
    "\n",
    "def preprocess(text):\n",
    "    #Removing urls\n",
    "    text = re.sub(r'http\\S+', '', text)\n",
    "    #Tokenize using nltk\n",
    "    word_tokens = word_tokenize(text.lower())\n",
    "    #removing none letter characters and stop words\n",
    "    filtered_sentence = [w for w in word_tokens if w.isalpha()]\n",
    "\n",
    "    return filtered_sentence\n",
    "\n",
    "WSB_submissions[\"tokens\"] = WSB_submissions['text'].progress_apply(lambda x: preprocess(x))\n",
    "WSB_submissions.head()"
   ]
  },
  {
   "cell_type": "markdown",
   "metadata": {},
   "source": [
    "Create one document per day in the dataset, containing all tokens for that day. Plot the length of the document (number of tokens) over time. Are documents long enough for using a dictionary-based method? As a rule-of-thumb that 10,000 words are enough to score with a sentiment dictionary confidently."
   ]
  },
  {
   "cell_type": "code",
   "execution_count": 29,
   "metadata": {},
   "outputs": [],
   "source": [
    "from datetime import datetime\n",
    "WSB_submissions[\"time\"] = WSB_submissions[\"created_utc\"].apply(lambda x: datetime.utcfromtimestamp(x).date())\n",
    "WSB_submissions.head()\n",
    "\n",
    "token_pr_date = WSB_submissions.groupby(\"time\").tokens.sum()"
   ]
  },
  {
   "cell_type": "code",
   "execution_count": 75,
   "metadata": {},
   "outputs": [
    {
     "data": {
      "text/plain": [
       "time\n",
       "2019-12-31    [long, lyft, and, uber, dd, given, our, tradin...\n",
       "2020-01-01    [what, are, you, guys, doing, new, year, s, ev...\n",
       "2020-01-02    [opinions, on, baba, from, what, i, ve, read, ...\n",
       "2020-01-03    [wwiii, crusader, etf, need, some, help, boys,...\n",
       "2020-01-04    [do, you, know, any, broker, in, europe, that,...\n",
       "                                    ...                        \n",
       "2020-12-27    [baba, buy, the, dip, while, they, re, being, ...\n",
       "2020-12-28    [did, i, lose, everything, on, baba, so, i, we...\n",
       "2020-12-29    [yum, dd, kfc, launches, game, console, with, ...\n",
       "2020-12-30    [popping, the, cherry, it, actually, been, lik...\n",
       "2020-12-31    [start, yoloing, hi, guys, i, a, noob, girl, w...\n",
       "Name: tokens, Length: 367, dtype: object"
      ]
     },
     "execution_count": 75,
     "metadata": {},
     "output_type": "execute_result"
    }
   ],
   "source": [
    "token_pr_date"
   ]
  },
  {
   "cell_type": "code",
   "execution_count": 85,
   "metadata": {},
   "outputs": [
    {
     "data": {
      "image/png": "[encoded data removed]",
      "text/plain": [
       "<Figure size 1080x504 with 1 Axes>"
      ]
     },
     "metadata": {
      "needs_background": "light"
     },
     "output_type": "display_data"
    }
   ],
   "source": [
    "fig, ax = plt.subplots(figsize=(15,7))\n",
    "ax.plot(token_pr_date.index, [len(x) for x in token_pr_date])\n",
    "ax.axhline(10000, linestyle = \"--\", color = \"r\")\n",
    "plt.show()"
   ]
  },
  {
   "cell_type": "code",
   "execution_count": 73,
   "metadata": {},
   "outputs": [
    {
     "data": {
      "text/plain": [
       "(array([12., 58., 96., 97., 49., 29., 14.,  5.,  3.,  4.]),\n",
       " array([  376. ,  8079.2, 15782.4, 23485.6, 31188.8, 38892. , 46595.2,\n",
       "        54298.4, 62001.6, 69704.8, 77408. ]),\n",
       " <BarContainer object of 10 artists>)"
      ]
     },
     "execution_count": 73,
     "metadata": {},
     "output_type": "execute_result"
    },
    {
     "data": {
      "image/png": "[encoded data removed]",
      "text/plain": [
       "<Figure size 432x288 with 1 Axes>"
      ]
     },
     "metadata": {
      "needs_background": "light"
     },
     "output_type": "display_data"
    }
   ],
   "source": [
    "num_tokens = []\n",
    "for i in range(len(token_pr_date)):\n",
    "    num_tokens.append(len(token_pr_date[i]))\n",
    "plt.hist(num_tokens)"
   ]
  },
  {
   "cell_type": "code",
   "execution_count": 74,
   "metadata": {},
   "outputs": [
    {
     "ename": "TypeError",
     "evalue": "unhashable type: 'list'",
     "output_type": "error",
     "traceback": [
      "\u001b[1;31m---------------------------------------------------------------------------\u001b[0m",
      "\u001b[1;31mTypeError\u001b[0m                                 Traceback (most recent call last)",
      "\u001b[1;32m~\\AppData\\Local\\Temp/ipykernel_16760/275691709.py\u001b[0m in \u001b[0;36m<module>\u001b[1;34m\u001b[0m\n\u001b[1;32m----> 1\u001b[1;33m \u001b[0mWSB_submissions\u001b[0m\u001b[1;33m.\u001b[0m\u001b[0mgroupby\u001b[0m\u001b[1;33m(\u001b[0m\u001b[1;33m[\u001b[0m\u001b[1;34m\"time\"\u001b[0m\u001b[1;33m]\u001b[0m\u001b[1;33m,\u001b[0m\u001b[1;33m[\u001b[0m\u001b[1;34m\"tokens\"\u001b[0m\u001b[1;33m]\u001b[0m\u001b[1;33m)\u001b[0m\u001b[1;33m\u001b[0m\u001b[1;33m\u001b[0m\u001b[0m\n\u001b[0m",
      "\u001b[1;32m~\\AppData\\Local\\Packages\\PythonSoftwareFoundation.Python.3.9_qbz5n2kfra8p0\\LocalCache\\local-packages\\Python39\\site-packages\\pandas\\core\\frame.py\u001b[0m in \u001b[0;36mgroupby\u001b[1;34m(self, by, axis, level, as_index, sort, group_keys, squeeze, observed, dropna)\u001b[0m\n\u001b[0;32m   7625\u001b[0m         \u001b[1;32mif\u001b[0m \u001b[0mlevel\u001b[0m \u001b[1;32mis\u001b[0m \u001b[1;32mNone\u001b[0m \u001b[1;32mand\u001b[0m \u001b[0mby\u001b[0m \u001b[1;32mis\u001b[0m \u001b[1;32mNone\u001b[0m\u001b[1;33m:\u001b[0m\u001b[1;33m\u001b[0m\u001b[1;33m\u001b[0m\u001b[0m\n\u001b[0;32m   7626\u001b[0m             \u001b[1;32mraise\u001b[0m \u001b[0mTypeError\u001b[0m\u001b[1;33m(\u001b[0m\u001b[1;34m\"You have to supply one of 'by' and 'level'\"\u001b[0m\u001b[1;33m)\u001b[0m\u001b[1;33m\u001b[0m\u001b[1;33m\u001b[0m\u001b[0m\n\u001b[1;32m-> 7627\u001b[1;33m         \u001b[0maxis\u001b[0m \u001b[1;33m=\u001b[0m \u001b[0mself\u001b[0m\u001b[1;33m.\u001b[0m\u001b[0m_get_axis_number\u001b[0m\u001b[1;33m(\u001b[0m\u001b[0maxis\u001b[0m\u001b[1;33m)\u001b[0m\u001b[1;33m\u001b[0m\u001b[1;33m\u001b[0m\u001b[0m\n\u001b[0m\u001b[0;32m   7628\u001b[0m \u001b[1;33m\u001b[0m\u001b[0m\n\u001b[0;32m   7629\u001b[0m         \u001b[1;31m# error: Argument \"squeeze\" to \"DataFrameGroupBy\" has incompatible type\u001b[0m\u001b[1;33m\u001b[0m\u001b[1;33m\u001b[0m\u001b[0m\n",
      "\u001b[1;32m~\\AppData\\Local\\Packages\\PythonSoftwareFoundation.Python.3.9_qbz5n2kfra8p0\\LocalCache\\local-packages\\Python39\\site-packages\\pandas\\core\\generic.py\u001b[0m in \u001b[0;36m_get_axis_number\u001b[1;34m(cls, axis)\u001b[0m\n\u001b[0;32m    544\u001b[0m     \u001b[1;32mdef\u001b[0m \u001b[0m_get_axis_number\u001b[0m\u001b[1;33m(\u001b[0m\u001b[0mcls\u001b[0m\u001b[1;33m,\u001b[0m \u001b[0maxis\u001b[0m\u001b[1;33m:\u001b[0m \u001b[0mAxis\u001b[0m\u001b[1;33m)\u001b[0m \u001b[1;33m->\u001b[0m \u001b[0mint\u001b[0m\u001b[1;33m:\u001b[0m\u001b[1;33m\u001b[0m\u001b[1;33m\u001b[0m\u001b[0m\n\u001b[0;32m    545\u001b[0m         \u001b[1;32mtry\u001b[0m\u001b[1;33m:\u001b[0m\u001b[1;33m\u001b[0m\u001b[1;33m\u001b[0m\u001b[0m\n\u001b[1;32m--> 546\u001b[1;33m             \u001b[1;32mreturn\u001b[0m \u001b[0mcls\u001b[0m\u001b[1;33m.\u001b[0m\u001b[0m_AXIS_TO_AXIS_NUMBER\u001b[0m\u001b[1;33m[\u001b[0m\u001b[0maxis\u001b[0m\u001b[1;33m]\u001b[0m\u001b[1;33m\u001b[0m\u001b[1;33m\u001b[0m\u001b[0m\n\u001b[0m\u001b[0;32m    547\u001b[0m         \u001b[1;32mexcept\u001b[0m \u001b[0mKeyError\u001b[0m\u001b[1;33m:\u001b[0m\u001b[1;33m\u001b[0m\u001b[1;33m\u001b[0m\u001b[0m\n\u001b[0;32m    548\u001b[0m             \u001b[1;32mraise\u001b[0m \u001b[0mValueError\u001b[0m\u001b[1;33m(\u001b[0m\u001b[1;34mf\"No axis named {axis} for object type {cls.__name__}\"\u001b[0m\u001b[1;33m)\u001b[0m\u001b[1;33m\u001b[0m\u001b[1;33m\u001b[0m\u001b[0m\n",
      "\u001b[1;31mTypeError\u001b[0m: unhashable type: 'list'"
     ]
    }
   ],
   "source": [
    "WSB_submissions.groupby([\"time\"],[\"tokens\"])"
   ]
  },
  {
   "cell_type": "code",
   "execution_count": 69,
   "metadata": {},
   "outputs": [
    {
     "ename": "TypeError",
     "evalue": "rolling() got an unexpected keyword argument 'freq'",
     "output_type": "error",
     "traceback": [
      "\u001b[1;31m---------------------------------------------------------------------------\u001b[0m",
      "\u001b[1;31mTypeError\u001b[0m                                 Traceback (most recent call last)",
      "\u001b[1;32m~\\AppData\\Local\\Temp/ipykernel_16760/438106283.py\u001b[0m in \u001b[0;36m<module>\u001b[1;34m\u001b[0m\n\u001b[0;32m      3\u001b[0m \u001b[0mWSB_submissions\u001b[0m\u001b[1;33m.\u001b[0m\u001b[0mindex\u001b[0m\u001b[1;33m\u001b[0m\u001b[1;33m\u001b[0m\u001b[0m\n\u001b[0;32m      4\u001b[0m \u001b[1;33m\u001b[0m\u001b[0m\n\u001b[1;32m----> 5\u001b[1;33m \u001b[0mrolled_series\u001b[0m \u001b[1;33m=\u001b[0m \u001b[0mWSB_submissions\u001b[0m\u001b[1;33m[\u001b[0m\u001b[1;34m\"tokens\"\u001b[0m\u001b[1;33m]\u001b[0m\u001b[1;33m.\u001b[0m\u001b[0mstr\u001b[0m\u001b[1;33m.\u001b[0m\u001b[0mlen\u001b[0m\u001b[1;33m(\u001b[0m\u001b[1;33m)\u001b[0m\u001b[1;33m.\u001b[0m\u001b[0mrolling\u001b[0m\u001b[1;33m(\u001b[0m\u001b[0mwindow\u001b[0m\u001b[1;33m=\u001b[0m\u001b[1;36m1\u001b[0m\u001b[1;33m,\u001b[0m\u001b[0mfreq\u001b[0m\u001b[1;33m=\u001b[0m\u001b[1;34m'Y'\u001b[0m\u001b[1;33m,\u001b[0m\u001b[0mon\u001b[0m\u001b[1;33m=\u001b[0m\u001b[1;34m'time'\u001b[0m\u001b[1;33m)\u001b[0m\u001b[1;33m.\u001b[0m\u001b[0msum\u001b[0m\u001b[1;33m(\u001b[0m\u001b[1;33m)\u001b[0m \u001b[1;31m# Make a rolled series\u001b[0m\u001b[1;33m\u001b[0m\u001b[1;33m\u001b[0m\u001b[0m\n\u001b[0m",
      "\u001b[1;31mTypeError\u001b[0m: rolling() got an unexpected keyword argument 'freq'"
     ]
    },
    {
     "data": {
      "image/png": "[encoded data removed]",
      "text/plain": [
       "<Figure size 1080x504 with 1 Axes>"
      ]
     },
     "metadata": {
      "needs_background": "light"
     },
     "output_type": "display_data"
    }
   ],
   "source": [
    "fig, ax = plt.subplots(figsize=(15,7))\n",
    "WSB_submissions.set_index(\"time\")\n",
    "WSB_submissions.index\n",
    "\n",
    "rolled_series = WSB_submissions[\"tokens\"].str.len().rolling(window=1,freq='Y',on='time').sum() # Make a rolled series"
   ]
  },
  {
   "cell_type": "code",
   "execution_count": 37,
   "metadata": {},
   "outputs": [
    {
     "ename": "TypeError",
     "evalue": "unhashable type: 'list'",
     "output_type": "error",
     "traceback": [
      "\u001b[1;31m---------------------------------------------------------------------------\u001b[0m",
      "\u001b[1;31mTypeError\u001b[0m                                 Traceback (most recent call last)",
      "\u001b[1;32m~\\AppData\\Local\\Temp/ipykernel_16760/1532095186.py\u001b[0m in \u001b[0;36m<module>\u001b[1;34m\u001b[0m\n\u001b[0;32m      1\u001b[0m \u001b[1;31m#token_pr_date.apply(lambda x: find_the_happiness(x, labMT))\u001b[0m\u001b[1;33m\u001b[0m\u001b[1;33m\u001b[0m\u001b[0m\n\u001b[1;32m----> 2\u001b[1;33m \u001b[0mfind_the_happiness\u001b[0m\u001b[1;33m(\u001b[0m\u001b[0mtoken_pr_date\u001b[0m\u001b[1;33m,\u001b[0m\u001b[0mlabMT\u001b[0m\u001b[1;33m)\u001b[0m\u001b[1;33m\u001b[0m\u001b[1;33m\u001b[0m\u001b[0m\n\u001b[0m",
      "\u001b[1;32m~\\AppData\\Local\\Temp/ipykernel_16760/3999720060.py\u001b[0m in \u001b[0;36mfind_the_happiness\u001b[1;34m(tokens, happiness_df)\u001b[0m\n\u001b[0;32m      8\u001b[0m     \u001b[1;31m#print(tokens)\u001b[0m\u001b[1;33m\u001b[0m\u001b[1;33m\u001b[0m\u001b[0m\n\u001b[0;32m      9\u001b[0m \u001b[1;33m\u001b[0m\u001b[0m\n\u001b[1;32m---> 10\u001b[1;33m     \u001b[0mfreq_dict\u001b[0m \u001b[1;33m=\u001b[0m \u001b[0mnltk\u001b[0m\u001b[1;33m.\u001b[0m\u001b[0mFreqDist\u001b[0m\u001b[1;33m(\u001b[0m\u001b[0mtokens\u001b[0m\u001b[1;33m)\u001b[0m\u001b[1;33m\u001b[0m\u001b[1;33m\u001b[0m\u001b[0m\n\u001b[0m\u001b[0;32m     11\u001b[0m \u001b[1;33m\u001b[0m\u001b[0m\n\u001b[0;32m     12\u001b[0m     \u001b[0mlength_text\u001b[0m \u001b[1;33m=\u001b[0m \u001b[0mlen\u001b[0m\u001b[1;33m(\u001b[0m\u001b[0mtokens\u001b[0m\u001b[1;33m)\u001b[0m\u001b[1;33m\u001b[0m\u001b[1;33m\u001b[0m\u001b[0m\n",
      "\u001b[1;32m~\\AppData\\Local\\Packages\\PythonSoftwareFoundation.Python.3.9_qbz5n2kfra8p0\\LocalCache\\local-packages\\Python39\\site-packages\\nltk\\probability.py\u001b[0m in \u001b[0;36m__init__\u001b[1;34m(self, samples)\u001b[0m\n\u001b[0;32m    100\u001b[0m         \u001b[1;33m:\u001b[0m\u001b[0mtype\u001b[0m \u001b[0msamples\u001b[0m\u001b[1;33m:\u001b[0m \u001b[0mSequence\u001b[0m\u001b[1;33m\u001b[0m\u001b[1;33m\u001b[0m\u001b[0m\n\u001b[0;32m    101\u001b[0m         \"\"\"\n\u001b[1;32m--> 102\u001b[1;33m         \u001b[0mCounter\u001b[0m\u001b[1;33m.\u001b[0m\u001b[0m__init__\u001b[0m\u001b[1;33m(\u001b[0m\u001b[0mself\u001b[0m\u001b[1;33m,\u001b[0m \u001b[0msamples\u001b[0m\u001b[1;33m)\u001b[0m\u001b[1;33m\u001b[0m\u001b[1;33m\u001b[0m\u001b[0m\n\u001b[0m\u001b[0;32m    103\u001b[0m \u001b[1;33m\u001b[0m\u001b[0m\n\u001b[0;32m    104\u001b[0m         \u001b[1;31m# Cached number of samples in this FreqDist\u001b[0m\u001b[1;33m\u001b[0m\u001b[1;33m\u001b[0m\u001b[0m\n",
      "\u001b[1;32mC:\\Program Files\\WindowsApps\\PythonSoftwareFoundation.Python.3.9_3.9.2800.0_x64__qbz5n2kfra8p0\\lib\\collections\\__init__.py\u001b[0m in \u001b[0;36m__init__\u001b[1;34m(self, iterable, **kwds)\u001b[0m\n\u001b[0;32m    591\u001b[0m         '''\n\u001b[0;32m    592\u001b[0m         \u001b[0msuper\u001b[0m\u001b[1;33m(\u001b[0m\u001b[1;33m)\u001b[0m\u001b[1;33m.\u001b[0m\u001b[0m__init__\u001b[0m\u001b[1;33m(\u001b[0m\u001b[1;33m)\u001b[0m\u001b[1;33m\u001b[0m\u001b[1;33m\u001b[0m\u001b[0m\n\u001b[1;32m--> 593\u001b[1;33m         \u001b[0mself\u001b[0m\u001b[1;33m.\u001b[0m\u001b[0mupdate\u001b[0m\u001b[1;33m(\u001b[0m\u001b[0miterable\u001b[0m\u001b[1;33m,\u001b[0m \u001b[1;33m**\u001b[0m\u001b[0mkwds\u001b[0m\u001b[1;33m)\u001b[0m\u001b[1;33m\u001b[0m\u001b[1;33m\u001b[0m\u001b[0m\n\u001b[0m\u001b[0;32m    594\u001b[0m \u001b[1;33m\u001b[0m\u001b[0m\n\u001b[0;32m    595\u001b[0m     \u001b[1;32mdef\u001b[0m \u001b[0m__missing__\u001b[0m\u001b[1;33m(\u001b[0m\u001b[0mself\u001b[0m\u001b[1;33m,\u001b[0m \u001b[0mkey\u001b[0m\u001b[1;33m)\u001b[0m\u001b[1;33m:\u001b[0m\u001b[1;33m\u001b[0m\u001b[1;33m\u001b[0m\u001b[0m\n",
      "\u001b[1;32m~\\AppData\\Local\\Packages\\PythonSoftwareFoundation.Python.3.9_qbz5n2kfra8p0\\LocalCache\\local-packages\\Python39\\site-packages\\nltk\\probability.py\u001b[0m in \u001b[0;36mupdate\u001b[1;34m(self, *args, **kwargs)\u001b[0m\n\u001b[0;32m    138\u001b[0m         \"\"\"\n\u001b[0;32m    139\u001b[0m         \u001b[0mself\u001b[0m\u001b[1;33m.\u001b[0m\u001b[0m_N\u001b[0m \u001b[1;33m=\u001b[0m \u001b[1;32mNone\u001b[0m\u001b[1;33m\u001b[0m\u001b[1;33m\u001b[0m\u001b[0m\n\u001b[1;32m--> 140\u001b[1;33m         \u001b[0msuper\u001b[0m\u001b[1;33m(\u001b[0m\u001b[1;33m)\u001b[0m\u001b[1;33m.\u001b[0m\u001b[0mupdate\u001b[0m\u001b[1;33m(\u001b[0m\u001b[1;33m*\u001b[0m\u001b[0margs\u001b[0m\u001b[1;33m,\u001b[0m \u001b[1;33m**\u001b[0m\u001b[0mkwargs\u001b[0m\u001b[1;33m)\u001b[0m\u001b[1;33m\u001b[0m\u001b[1;33m\u001b[0m\u001b[0m\n\u001b[0m\u001b[0;32m    141\u001b[0m \u001b[1;33m\u001b[0m\u001b[0m\n\u001b[0;32m    142\u001b[0m     \u001b[1;32mdef\u001b[0m \u001b[0msetdefault\u001b[0m\u001b[1;33m(\u001b[0m\u001b[0mself\u001b[0m\u001b[1;33m,\u001b[0m \u001b[0mkey\u001b[0m\u001b[1;33m,\u001b[0m \u001b[0mval\u001b[0m\u001b[1;33m)\u001b[0m\u001b[1;33m:\u001b[0m\u001b[1;33m\u001b[0m\u001b[1;33m\u001b[0m\u001b[0m\n",
      "\u001b[1;32mC:\\Program Files\\WindowsApps\\PythonSoftwareFoundation.Python.3.9_3.9.2800.0_x64__qbz5n2kfra8p0\\lib\\collections\\__init__.py\u001b[0m in \u001b[0;36mupdate\u001b[1;34m(self, iterable, **kwds)\u001b[0m\n\u001b[0;32m    677\u001b[0m                     \u001b[0msuper\u001b[0m\u001b[1;33m(\u001b[0m\u001b[1;33m)\u001b[0m\u001b[1;33m.\u001b[0m\u001b[0mupdate\u001b[0m\u001b[1;33m(\u001b[0m\u001b[0miterable\u001b[0m\u001b[1;33m)\u001b[0m\u001b[1;33m\u001b[0m\u001b[1;33m\u001b[0m\u001b[0m\n\u001b[0;32m    678\u001b[0m             \u001b[1;32melse\u001b[0m\u001b[1;33m:\u001b[0m\u001b[1;33m\u001b[0m\u001b[1;33m\u001b[0m\u001b[0m\n\u001b[1;32m--> 679\u001b[1;33m                 \u001b[0m_count_elements\u001b[0m\u001b[1;33m(\u001b[0m\u001b[0mself\u001b[0m\u001b[1;33m,\u001b[0m \u001b[0miterable\u001b[0m\u001b[1;33m)\u001b[0m\u001b[1;33m\u001b[0m\u001b[1;33m\u001b[0m\u001b[0m\n\u001b[0m\u001b[0;32m    680\u001b[0m         \u001b[1;32mif\u001b[0m \u001b[0mkwds\u001b[0m\u001b[1;33m:\u001b[0m\u001b[1;33m\u001b[0m\u001b[1;33m\u001b[0m\u001b[0m\n\u001b[0;32m    681\u001b[0m             \u001b[0mself\u001b[0m\u001b[1;33m.\u001b[0m\u001b[0mupdate\u001b[0m\u001b[1;33m(\u001b[0m\u001b[0mkwds\u001b[0m\u001b[1;33m)\u001b[0m\u001b[1;33m\u001b[0m\u001b[1;33m\u001b[0m\u001b[0m\n",
      "\u001b[1;31mTypeError\u001b[0m: unhashable type: 'list'"
     ]
    }
   ],
   "source": [
    "#token_pr_date.apply(lambda x: find_the_happiness(x, labMT))\n",
    "find_the_happiness(token_pr_date,labMT)"
   ]
  }
 ],
 "metadata": {
  "interpreter": {
   "hash": "3a555e031f921cec308b85ca21a0e976ded3f2bd321f13a8ca2fe088965d48db"
  },
  "kernelspec": {
   "display_name": "Python 3 (ipykernel)",
   "language": "python",
   "name": "python3"
  },
  "language_info": {
   "codemirror_mode": {
    "name": "ipython",
    "version": 3
   },
   "file_extension": ".py",
   "mimetype": "text/x-python",
   "name": "python",
   "nbconvert_exporter": "python",
   "pygments_lexer": "ipython3",
   "version": "3.9.10"
  }
 },
 "nbformat": 4,
 "nbformat_minor": 2
}
