{
 "cells": [
  {
   "cell_type": "code",
   "execution_count": 2,
   "id": "b992ff27",
   "metadata": {},
   "outputs": [
    {
     "data": {
      "image/png": "[encoded data removed]",
      "text/plain": [
       "<Figure size 480x480 with 1 Axes>"
      ]
     },
     "metadata": {},
     "output_type": "display_data"
    }
   ],
   "source": [
    "%matplotlib inline\n",
    "import networkx as nx\n",
    "import netwulf as nw\n",
    "import matplotlib.pyplot as plt\n",
    "\n",
    "#Create graph and get node attributes for nw:\n",
    "G = nx.karate_club_graph()\n",
    "for k, v in G.nodes(data=True):\n",
    "    v['group'] = v['club']; del v['club']\n",
    "\n",
    "with plt.style.context('classic'):\n",
    "    network, config = nw.interactive.visualize(G, plot_in_cell_below=False)\n",
    "    fig, ax = nw.draw_netwulf(network)"
   ]
  },
  {
   "cell_type": "code",
   "execution_count": 4,
   "id": "26d79c05",
   "metadata": {},
   "outputs": [],
   "source": [
    "import networkx as nx\n",
    "import netwulf as nw\n",
    "import matplotlib.pyplot as plt\n",
    "\n",
    "G = nx.karate_club_graph()\n",
    "for k, v in G.nodes(data=True):\n",
    "    v['group'] = v['club']; del v['club']\n",
    "\n",
    "\n",
    "\n",
    "def modularity(G: G, partitioning: list) -> float:\n",
    "    L = len(G.edges())\n",
    "    M = 0\n",
    "    for partion in partitioning:\n",
    "        subgraph = G.subgraph(partion).copy()\n",
    "        L_c = subgraph.number_of_edges()\n",
    "        K_c = sum(G.degree[node] for node in subgraph.nodes())\n",
    "        M += (L_c/L) - (K_c/(2*L))**2\n",
    "    return M"
   ]
  },
  {
   "cell_type": "code",
   "execution_count": null,
   "id": "24926c08",
   "metadata": {},
   "outputs": [],
   "source": []
  },
  {
   "cell_type": "code",
   "execution_count": 5,
   "id": "2e5acb61",
   "metadata": {},
   "outputs": [],
   "source": [
    "import random\n",
    "\n",
    "nG = G.copy()\n",
    "\n",
    "N = 100\n",
    "for i in range(N):\n",
    "    edges = list(nx.edges(nG))\n",
    "    drawn = random.choices(edges, k=2)\n",
    "    \n",
    "    if drawn[0][0] == drawn[0][1]:\n",
    "        pass\n",
    "    if drawn[0][1] == drawn[1][0]:\n",
    "        pass\n",
    "    \n",
    "    if (drawn[0][0],drawn[1][1]) not in edges and (drawn[1][0],drawn[0][1]) not in edges:\n",
    "        nG.add_edge(drawn[0][0], drawn[1][1])\n",
    "        nG.add_edge(drawn[1][0], drawn[0][1])\n",
    "        if (drawn[0][0],drawn[0][1]) in edges:\n",
    "            nG.remove_edge(drawn[0][0],drawn[0][1])\n",
    "        if (drawn[1][0],drawn[1][1]) in edges:            \n",
    "            nG.remove_edge(drawn[1][0],drawn[1][1])\n"
   ]
  },
  {
   "cell_type": "code",
   "execution_count": 6,
   "id": "8f1b5e68",
   "metadata": {},
   "outputs": [
    {
     "data": {
      "text/plain": [
       "<networkx.classes.graph.Graph at 0x7fa8822e5130>"
      ]
     },
     "execution_count": 6,
     "metadata": {},
     "output_type": "execute_result"
    }
   ],
   "source": [
    "nG"
   ]
  },
  {
   "cell_type": "code",
   "execution_count": 55,
   "id": "eec3063d",
   "metadata": {},
   "outputs": [
    {
     "data": {
      "text/plain": [
       "<networkx.classes.graph.Graph at 0x7fa8822e5b80>"
      ]
     },
     "execution_count": 55,
     "metadata": {},
     "output_type": "execute_result"
    }
   ],
   "source": [
    "from tqdm import tqdm\n",
    "import numpy as np\n",
    "np.random.seed(0)\n",
    "def modularity(G, partitioning: list) -> float:\n",
    "    L = len(G.edges())\n",
    "    M = 0\n",
    "    for partion in partitioning:\n",
    "        subgraph = G.subgraph(partion).copy()\n",
    "        L_c = subgraph.number_of_edges()\n",
    "        K_c = sum(G.degree[node] for node in subgraph.nodes())\n",
    "        M += (L_c/L) - (K_c/(2*L))**2\n",
    "    return M\n",
    "\n",
    "def double_edge_swap(G: G, N: int)->G:\n",
    "    G_random = G.copy()\n",
    "    num_swaps = 0\n",
    "    keys, degrees = zip(*G_random.degree())\n",
    "    cdf = nx.utils.cumulative_distribution(degrees)  # cdf of degree\n",
    "    discrete_sequence = nx.utils.discrete_sequence\n",
    "    while num_swaps < N:\n",
    "\n",
    "        (u_idx, x_idx) = discrete_sequence(2, cdistribution=cdf) #Draw indices with respect to our cdf of degree\n",
    "        if u_idx == x_idx: #Same source, skip\n",
    "            continue\n",
    "        u = keys[u_idx]  #Convert index to label\n",
    "        x = keys[x_idx]\n",
    "\n",
    "        v = random.choice(list(G_random.neighbors(u))) #Draw randomly from the neighboring nodes\n",
    "        y = random.choice(list(G_random.neighbors(x)))\n",
    "\n",
    "        if v==y: #Same target, skip\n",
    "            continue\n",
    "        if (x not in G_random.neighbors(u)) and (y not in G_random.neighbors(v)):\n",
    "            G_random.add_edge(u, x)\n",
    "            G_random.add_edge(v, y)\n",
    "            G_random.remove_edge(u, v)\n",
    "            G_random.remove_edge(x, y)\n",
    "            num_swaps += 1\n",
    "    return G_random \n",
    "\n",
    "\n",
    "\n",
    "GME_graph = nx.read_gexf(\"../Week_8/reciprocal_reddit_community_GME.gexf\")\n",
    "N = GME_graph.number_of_edges()\n",
    "\n",
    "\n",
    "\n",
    "'''modularity_list = []\n",
    "for i in tqdm(range(1000)):\n",
    "    graph_ = double_edge_swap(GME_graph, N)\n",
    "    modular = modularity(graph_, \"group\")\n",
    "    modularity_list.append(modular)\n",
    "modularity_list'''\n",
    "\n",
    "double_edge_swap(GME_graph, N)\n"
   ]
  },
  {
   "cell_type": "code",
   "execution_count": 29,
   "id": "8d2c4c7b",
   "metadata": {},
   "outputs": [
    {
     "name": "stdout",
     "output_type": "stream",
     "text": [
      "mean: 0.0\n",
      "std: 0.0\n"
     ]
    }
   ],
   "source": [
    "import numpy as np\n",
    "print(\"mean:\",np.mean(modularity_list))\n",
    "print(\"std:\",np.std(modularity_list))"
   ]
  },
  {
   "cell_type": "code",
   "execution_count": 141,
   "id": "6a3bf852",
   "metadata": {},
   "outputs": [
    {
     "name": "stdout",
     "output_type": "stream",
     "text": [
      "[(0, 15), (1, 8), (2, 6), (3, 6), (4, 3), (5, 4), (6, 4), (7, 4), (8, 2), (10, 3), (11, 1), (12, 2), (13, 4), (16, 2), (17, 2), (19, 2), (21, 2)]\n",
      "[(9, 1), (14, 2), (15, 2), (18, 2), (20, 2), (22, 2), (23, 5), (24, 3), (25, 3), (26, 2), (27, 3), (28, 2), (29, 4), (30, 2), (31, 5), (32, 10), (33, 14)]\n"
     ]
    },
    {
     "data": {
      "image/png": "[encoded data removed]",
      "text/plain": [
       "<Figure size 864x576 with 1 Axes>"
      ]
     },
     "metadata": {
      "needs_background": "light"
     },
     "output_type": "display_data"
    }
   ],
   "source": [
    "plt.figure(figsize=(12, 8))\n",
    "plt.hist(modularity_list,label='\"Random\" Modularity')\n",
    "plt.axvline(x=compute_modularity(G, 'group'),ymin=0,ymax=1, color='r',label='True Modularity')\n",
    "plt.title('Modularity Distribution')\n",
    "plt.xlabel('Modularity')\n",
    "plt.ylabel('Count')\n",
    "plt.legend()\n",
    "plt.show()"
   ]
  },
  {
   "cell_type": "markdown",
   "id": "a5c6d6b3",
   "metadata": {},
   "source": [
    "Yes, the true split is a good split. This can be seen because the red line is on the far right of the x-axis. You asked us to do a randomized experiment to show us that random graphs lack the property of having good clusters as real graphs do. We have done 1000 random graphs and not a single graph has as high modularity as the true graph but it seems the randomized graphs have a modularity normally distributed around 0."
   ]
  },
  {
   "cell_type": "code",
   "execution_count": 186,
   "id": "b738b194",
   "metadata": {},
   "outputs": [
    {
     "name": "stdout",
     "output_type": "stream",
     "text": [
      "{0: 0, 1: 0, 2: 0, 3: 0, 4: 2, 5: 2, 6: 2, 7: 0, 8: 1, 9: 0, 10: 2, 11: 0, 12: 0, 13: 0, 14: 1, 15: 1, 16: 2, 17: 0, 18: 1, 19: 0, 20: 1, 21: 0, 22: 1, 23: 1, 24: 3, 25: 3, 26: 1, 27: 1, 28: 3, 29: 1, 30: 1, 31: 3, 32: 1, 33: 1}\n",
      "0.4155982905982906\n",
      "0.3582347140039447\n"
     ]
    }
   ],
   "source": [
    "from community import community_louvain\n",
    "# compute the best partition\n",
    "partition = community_louvain.best_partition(G)\n",
    "nx.set_node_attributes(G,partition,'parti')\n",
    "print(compute_modularity(G, \"parti\"))\n",
    "print(compute_modularity(G,\"group\"))"
   ]
  },
  {
   "cell_type": "markdown",
   "id": "702fbe93",
   "metadata": {},
   "source": [
    "The partitioned modularity is higher than the true modularity. This comparison reveals that the absolute best split according to the louvain algorithm is actually not found to be the true graph split. Instead it wants to split the data somehow else (actually into one big cluster)"
   ]
  },
  {
   "cell_type": "code",
   "execution_count": 179,
   "id": "8ea25848",
   "metadata": {},
   "outputs": [
    {
     "data": {
      "text/plain": [
       "array([[ 0,  6,  0, 11],\n",
       "       [11,  0,  5,  1]])"
      ]
     },
     "execution_count": 179,
     "metadata": {},
     "output_type": "execute_result"
    }
   ],
   "source": [
    "of0 = 0\n",
    "of1 = 0\n",
    "of2 = 0\n",
    "of3 = 0\n",
    "hi0 = 0\n",
    "hi1 = 0\n",
    "hi2 = 0\n",
    "hi3 = 0\n",
    "\n",
    "\n",
    "for i in range(len(G.nodes())):\n",
    "    if G.nodes[i]['parti'] == 0 and G.nodes[i]['group'] == 'Officer':\n",
    "        of0 += 1\n",
    "    if G.nodes[i]['parti'] == 1 and G.nodes[i]['group'] == 'Officer':\n",
    "        of1 += 1\n",
    "    if G.nodes[i]['parti'] == 2 and G.nodes[i]['group'] == 'Officer':\n",
    "        of2 += 1\n",
    "    if G.nodes[i]['parti'] == 3 and G.nodes[i]['group'] == 'Officer':\n",
    "        of3 += 1\n",
    "        \n",
    "    if G.nodes[i]['parti'] == 0 and G.nodes[i]['group'] == 'Mr. Hi':\n",
    "        hi0 += 1\n",
    "    if G.nodes[i]['parti'] == 1 and G.nodes[i]['group'] == 'Mr. Hi':\n",
    "        hi1 += 1\n",
    "    if G.nodes[i]['parti'] == 2 and G.nodes[i]['group'] == 'Mr. Hi':\n",
    "        hi2 += 1\n",
    "    if G.nodes[i]['parti'] == 3 and G.nodes[i]['group'] == 'Mr. Hi':\n",
    "        hi3 += 1\n",
    "\n",
    "confusion_matrix = np.array([[of0,of1,of2,of3],[hi0,hi1,hi2,hi3]])\n",
    "confusion_matrix"
   ]
  },
  {
   "cell_type": "code",
   "execution_count": 180,
   "id": "c069aae6",
   "metadata": {},
   "outputs": [
    {
     "data": {
      "text/plain": [
       "'Mr. Hi'"
      ]
     },
     "execution_count": 180,
     "metadata": {},
     "output_type": "execute_result"
    }
   ],
   "source": [
    "G.nodes[3]['group']"
   ]
  },
  {
   "cell_type": "code",
   "execution_count": 197,
   "id": "1c845c6f",
   "metadata": {},
   "outputs": [],
   "source": [
    "def prob_items(lis: list) -> dict:\n",
    "    N = len(lis)\n",
    "    dic = {}\n",
    "    for i in list(dict.fromkeys(lis)):\n",
    "        dic[i] = lis.count(i)/N\n",
    "    return dic"
   ]
  },
  {
   "cell_type": "code",
   "execution_count": 198,
   "id": "02ea8dd2",
   "metadata": {},
   "outputs": [
    {
     "data": {
      "text/plain": [
       "{1: 0.6, 0: 0.2, 2: 0.2}"
      ]
     },
     "execution_count": 198,
     "metadata": {},
     "output_type": "execute_result"
    }
   ],
   "source": [
    "prob_items([1,1,1,0,2])"
   ]
  },
  {
   "cell_type": "code",
   "execution_count": 204,
   "id": "e987e301",
   "metadata": {},
   "outputs": [],
   "source": [
    "l1 = [G.nodes[i]['group'] for i in range(len(G.nodes()))]"
   ]
  },
  {
   "cell_type": "code",
   "execution_count": 205,
   "id": "ed65978b",
   "metadata": {},
   "outputs": [
    {
     "data": {
      "text/plain": [
       "{'Mr. Hi': 0.5, 'Officer': 0.5}"
      ]
     },
     "execution_count": 205,
     "metadata": {},
     "output_type": "execute_result"
    }
   ],
   "source": [
    "prob_items(l1)"
   ]
  },
  {
   "cell_type": "code",
   "execution_count": 206,
   "id": "de850ea2",
   "metadata": {},
   "outputs": [
    {
     "data": {
      "text/plain": [
       "{0: 0.35294117647058826,\n",
       " 2: 0.14705882352941177,\n",
       " 1: 0.38235294117647056,\n",
       " 3: 0.11764705882352941}"
      ]
     },
     "execution_count": 206,
     "metadata": {},
     "output_type": "execute_result"
    }
   ],
   "source": [
    "l2 = [G.nodes[i]['parti'] for i in range(len(G.nodes()))]\n",
    "prob_items(l2)"
   ]
  },
  {
   "cell_type": "code",
   "execution_count": 207,
   "id": "b6f07e63",
   "metadata": {},
   "outputs": [
    {
     "data": {
      "text/plain": [
       "{('Mr. Hi', 0): 0.3235294117647059,\n",
       " ('Mr. Hi', 2): 0.14705882352941177,\n",
       " ('Mr. Hi', 1): 0.029411764705882353,\n",
       " ('Officer', 0): 0.029411764705882353,\n",
       " ('Officer', 1): 0.35294117647058826,\n",
       " ('Officer', 3): 0.11764705882352941}"
      ]
     },
     "execution_count": 207,
     "metadata": {},
     "output_type": "execute_result"
    }
   ],
   "source": [
    "l3 = [(G.nodes[i]['group'],G.nodes[i]['parti']) for i in range(len(G.nodes()))]\n",
    "prob_items(l3)"
   ]
  },
  {
   "cell_type": "code",
   "execution_count": 274,
   "id": "ae0b63cf",
   "metadata": {},
   "outputs": [
    {
     "data": {
      "text/plain": [
       "0.6931471805599453"
      ]
     },
     "execution_count": 274,
     "metadata": {},
     "output_type": "execute_result"
    }
   ],
   "source": [
    "px_club = prob_items(l1)\n",
    "entropy_club = - sum(list(px_club.values()) * np.log(list(px_club.values())))\n",
    "entropy_club"
   ]
  },
  {
   "cell_type": "code",
   "execution_count": 275,
   "id": "7930f33d",
   "metadata": {},
   "outputs": [
    {
     "data": {
      "text/plain": [
       "1.2688432172306894"
      ]
     },
     "execution_count": 275,
     "metadata": {},
     "output_type": "execute_result"
    }
   ],
   "source": [
    "px_louv = prob_items(l2)\n",
    "entropy_louv = - sum(list(px_louv.values()) * np.log(list(px_louv.values())))\n",
    "entropy_louv"
   ]
  },
  {
   "cell_type": "code",
   "execution_count": 276,
   "id": "84b54e26",
   "metadata": {},
   "outputs": [
    {
     "data": {
      "text/plain": [
       "0.20492628371229119"
      ]
     },
     "execution_count": 276,
     "metadata": {},
     "output_type": "execute_result"
    }
   ],
   "source": [
    "entropy = 0\n",
    "for i in range(len(px_both)):\n",
    "    entropy += list(px_both.items())[i][1] * np.log(list(px_both.items())[i][1] / px_louv[list(px_both.keys())[i][1]])\n",
    "\n",
    "entropy = -1 * entropy\n",
    "entropy"
   ]
  },
  {
   "cell_type": "code",
   "execution_count": null,
   "id": "484682cb",
   "metadata": {},
   "outputs": [],
   "source": []
  }
 ],
 "metadata": {
  "kernelspec": {
   "display_name": "Python 3",
   "language": "python",
   "name": "python3"
  },
  "language_info": {
   "codemirror_mode": {
    "name": "ipython",
    "version": 3
   },
   "file_extension": ".py",
   "mimetype": "text/x-python",
   "name": "python",
   "nbconvert_exporter": "python",
   "pygments_lexer": "ipython3",
   "version": "3.8.8"
  }
 },
 "nbformat": 4,
 "nbformat_minor": 5
}
