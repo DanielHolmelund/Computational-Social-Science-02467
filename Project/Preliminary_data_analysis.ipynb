{
 "cells": [
  {
   "cell_type": "code",
   "execution_count": 1,
   "metadata": {},
   "outputs": [],
   "source": [
    "import pandas as pd\n",
    "import numpy as np\n",
    "import os\n",
    "from tqdm import tqdm, tqdm_pandas"
   ]
  },
  {
   "cell_type": "code",
   "execution_count": 5,
   "metadata": {},
   "outputs": [],
   "source": [
    "# Load in data\n",
    "column_names = ['ID', 'Title', 'From', 'To', 'House', 'Term', 'Session', 'Meeting',\n",
    "       'Sitting', 'Agenda', 'Subcorpus', 'Speaker_role', 'Speaker_type',\n",
    "       'Speaker_party', 'Speaker_party_name', 'Party_status', 'Speaker_name',\n",
    "       'Speaker_gender', 'Speaker_birth', \"Text\"]\n",
    "ParlaMint = pd.read_csv(\"data/parlamint.csv\", index_col=False, usecols = column_names)"
   ]
  },
  {
   "cell_type": "markdown",
   "metadata": {},
   "source": [
    "### Size of dataset"
   ]
  },
  {
   "cell_type": "code",
   "execution_count": 22,
   "metadata": {},
   "outputs": [
    {
     "name": "stdout",
     "output_type": "stream",
     "text": [
      "The dataset is 676.02 MB.\n",
      "The dataset consists of 552103 datapoints each with a feature length of 20.\n"
     ]
    }
   ],
   "source": [
    "MB_size = os.path.getsize(\"data/parlamint.csv\") / 1024 / 1024 # Convert from byte to MB\n",
    "print(f\"The dataset is {MB_size:0.2f} MB.\")\n",
    "print(f\"The dataset consists of {ParlaMint.shape[0]} datapoints each with a feature length of {ParlaMint.shape[1]}.\")\n"
   ]
  },
  {
   "cell_type": "code",
   "execution_count": 19,
   "metadata": {},
   "outputs": [
    {
     "data": {
      "text/plain": [
       "ID                    552103\n",
       "Title                 552103\n",
       "From                  552103\n",
       "To                    552103\n",
       "House                 552103\n",
       "Term                  552103\n",
       "Session                    0\n",
       "Meeting                    0\n",
       "Sitting                    0\n",
       "Agenda                     0\n",
       "Subcorpus             552103\n",
       "Speaker_role          552103\n",
       "Speaker_type          552103\n",
       "Speaker_party         550489\n",
       "Speaker_party_name    551961\n",
       "Party_status          548885\n",
       "Speaker_name          552103\n",
       "Speaker_gender        552103\n",
       "Speaker_birth         552103\n",
       "Text                  552103\n",
       "dtype: int64"
      ]
     },
     "execution_count": 19,
     "metadata": {},
     "output_type": "execute_result"
    }
   ],
   "source": [
    "ParlaMint.count()"
   ]
  },
  {
   "cell_type": "markdown",
   "metadata": {},
   "source": [
    "As seen above they are a few nan values (could remove those?)\n",
    "Should also remove \"Session\", \"Meeting\", \"Sitting\", \"Agenda\" since all values are nans."
   ]
  },
  {
   "cell_type": "code",
   "execution_count": 27,
   "metadata": {},
   "outputs": [
    {
     "data": {
      "text/plain": [
       "16"
      ]
     },
     "execution_count": 27,
     "metadata": {},
     "output_type": "execute_result"
    }
   ],
   "source": [
    "ParlaMint = ParlaMint.drop([\"Session\", \"Meeting\", \"Sitting\", \"Agenda\"], axis = 1)\n",
    "ParlaMint.shape[1]"
   ]
  },
  {
   "cell_type": "markdown",
   "metadata": {},
   "source": [
    "### Network analysis"
   ]
  },
  {
   "cell_type": "code",
   "execution_count": null,
   "metadata": {},
   "outputs": [],
   "source": []
  }
 ],
 "metadata": {
  "interpreter": {
   "hash": "9dfac92ddc2295f9877b0e9857c25581b6b61f4edef89013906e55e322fb5221"
  },
  "kernelspec": {
   "display_name": "Python 3.10.3 64-bit",
   "language": "python",
   "name": "python3"
  },
  "language_info": {
   "codemirror_mode": {
    "name": "ipython",
    "version": 3
   },
   "file_extension": ".py",
   "mimetype": "text/x-python",
   "name": "python",
   "nbconvert_exporter": "python",
   "pygments_lexer": "ipython3",
   "version": "3.10.3"
  },
  "orig_nbformat": 4
 },
 "nbformat": 4,
 "nbformat_minor": 2
}
