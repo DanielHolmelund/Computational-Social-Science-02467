{
 "cells": [
  {
   "cell_type": "code",
   "execution_count": 2,
   "metadata": {},
   "outputs": [],
   "source": [
    "# Imports\n",
    "import pandas as pd\n",
    "import numpy as np\n",
    "import os\n",
    "from tqdm import tqdm, tqdm_pandas\n",
    "import matplotlib as mpl\n",
    "import matplotlib.dates as mdates\n",
    "import matplotlib.pyplot as plt\n",
    "import datetime as datetime"
   ]
  },
  {
   "cell_type": "code",
   "execution_count": null,
   "metadata": {},
   "outputs": [],
   "source": [
    "# Lets customize some of the parameters of the matplotlib library.\n",
    "def setup_mpl():\n",
    "    mpl.rcParams[\"font.family\"] = \"Times New Roman\"\n",
    "    mpl.rcParams[\"lines.linewidth\"] = 1\n",
    "setup_mpl()"
   ]
  },
  {
   "cell_type": "markdown",
   "metadata": {},
   "source": [
    "### Basic stats. Let's understand the dataset better"
   ]
  },
  {
   "cell_type": "markdown",
   "metadata": {},
   "source": [
    "##### Write about your choices in data cleaning and preprocessing\n",
    "\n",
    "First step is to collect and represent the data in a meaningful datastructure that allows for further analysis. For this project all data is collected in a single Pandas dataframe.\n",
    "\n",
    "The raw data itself is spread over six subfolder, one for each year. In these folders there are two files for each day. One that contains the transcripts themself and another file that contains the corresponding metadata. Each of these files have a ID column that allows to match the rows of the two data files."
   ]
  },
  {
   "cell_type": "code",
   "execution_count": null,
   "metadata": {},
   "outputs": [],
   "source": [
    "# Create temp meta dataframe\n",
    "ParlaMint_meta = pd.DataFrame()\n",
    "rootdir = 'data/ParlaMint-GB.txt'\n",
    "for subdir, dirs, files in tqdm(os.walk(rootdir)):\n",
    "    for file in files:\n",
    "        filename = os.fsdecode(file)\n",
    "        if filename.endswith(\".tsv\"):\n",
    "            #Create the dataframe for metadata\n",
    "            temp_meta = pd.read_csv(os.path.join(subdir, file), sep = \"\\t\", header = None, skiprows = 1) # Skip the header row\n",
    "            ParlaMint_meta = pd.concat([ParlaMint_meta, temp_meta], axis = 0) # concat along columns"
   ]
  },
  {
   "cell_type": "code",
   "execution_count": null,
   "metadata": {},
   "outputs": [],
   "source": [
    "# Create temp text dataframe\n",
    "ParlaMint_text = pd.DataFrame()\n",
    "\n",
    "rootdir = 'data/ParlaMint-GB.txt'\n",
    "for subdir, dirs, files in tqdm(os.walk(rootdir)):\n",
    "    for file in files:\n",
    "        #print(os.fsdecode(file))\n",
    "        filename = os.fsdecode(file)\n",
    "        if filename.endswith(\".txt\"):\n",
    "            #Create the dataframe for text\n",
    "            temp_text = pd.read_csv(os.path.join(subdir, file), sep = \"\\t\", header = None)\n",
    "            ParlaMint_text = pd.concat([ParlaMint_text, temp_text], axis = 0, ignore_index = True) # concat along columns"
   ]
  },
  {
   "cell_type": "code",
   "execution_count": null,
   "metadata": {},
   "outputs": [],
   "source": [
    "# Test relation between the two dataframes to ensure match in index.\n",
    "idx_1 = ParlaMint_meta.iloc[:, 0].tolist()\n",
    "idx_2 = ParlaMint_text.iloc[:, 0].tolist()\n",
    "idx_1 == idx_2"
   ]
  },
  {
   "cell_type": "markdown",
   "metadata": {},
   "source": [
    "Now the two dataframes are concatenated together with their column names."
   ]
  },
  {
   "cell_type": "code",
   "execution_count": null,
   "metadata": {},
   "outputs": [],
   "source": [
    "ParlaMint = ParlaMint_meta.copy()\n",
    "# Add text as new column\n",
    "ParlaMint[\"Text\"] = ParlaMint_text[1].values\n",
    "# create rename dict\n",
    "column_names = ['ID', 'Title', 'From', 'To', 'House', 'Term', 'Session', 'Meeting',\n",
    "       'Sitting', 'Agenda', 'Subcorpus', 'Speaker_role', 'Speaker_type',\n",
    "       'Speaker_party', 'Speaker_party_name', 'Party_status', 'Speaker_name',\n",
    "       'Speaker_gender', 'Speaker_birth', \"Text\"]\n",
    "new_column_names = [(i, item) for i, item in enumerate(column_names)]\n",
    "new_column_names = {key: value for (key, value) in new_column_names}\n",
    "ParlaMint.rename(columns = new_column_names, inplace = True)"
   ]
  },
  {
   "cell_type": "code",
   "execution_count": null,
   "metadata": {},
   "outputs": [],
   "source": [
    "# Save to csv\n",
    "ParlaMint.to_csv(\"data/parlamint.csv\")"
   ]
  },
  {
   "cell_type": "markdown",
   "metadata": {},
   "source": [
    "##### Write a short section that discusses the dataset stats (here you can recycle the work you did for Project Assignment A)"
   ]
  },
  {
   "cell_type": "markdown",
   "metadata": {},
   "source": [
    "In the following section a summary of the key values and characteristics are presented. \n",
    "\n",
    "First step is to load in the data that was collected in the previous steps."
   ]
  },
  {
   "cell_type": "code",
   "execution_count": 3,
   "metadata": {},
   "outputs": [
    {
     "data": {
      "text/html": [
       "<div>\n",
       "<style scoped>\n",
       "    .dataframe tbody tr th:only-of-type {\n",
       "        vertical-align: middle;\n",
       "    }\n",
       "\n",
       "    .dataframe tbody tr th {\n",
       "        vertical-align: top;\n",
       "    }\n",
       "\n",
       "    .dataframe thead th {\n",
       "        text-align: right;\n",
       "    }\n",
       "</style>\n",
       "<table border=\"1\" class=\"dataframe\">\n",
       "  <thead>\n",
       "    <tr style=\"text-align: right;\">\n",
       "      <th></th>\n",
       "      <th>ID</th>\n",
       "      <th>Title</th>\n",
       "      <th>From</th>\n",
       "      <th>To</th>\n",
       "      <th>House</th>\n",
       "      <th>Term</th>\n",
       "      <th>Session</th>\n",
       "      <th>Meeting</th>\n",
       "      <th>Sitting</th>\n",
       "      <th>Agenda</th>\n",
       "      <th>Subcorpus</th>\n",
       "      <th>Speaker_role</th>\n",
       "      <th>Speaker_type</th>\n",
       "      <th>Speaker_party</th>\n",
       "      <th>Speaker_party_name</th>\n",
       "      <th>Party_status</th>\n",
       "      <th>Speaker_name</th>\n",
       "      <th>Speaker_gender</th>\n",
       "      <th>Speaker_birth</th>\n",
       "      <th>Text</th>\n",
       "    </tr>\n",
       "  </thead>\n",
       "  <tbody>\n",
       "    <tr>\n",
       "      <th>0</th>\n",
       "      <td>ParlaMint-GB_2015-01-05-commons.u1</td>\n",
       "      <td>Minutes of the House of Commons, Daily Session...</td>\n",
       "      <td>2015-01-05</td>\n",
       "      <td>2015-01-05</td>\n",
       "      <td>Lower house</td>\n",
       "      <td>55</td>\n",
       "      <td>NaN</td>\n",
       "      <td>NaN</td>\n",
       "      <td>NaN</td>\n",
       "      <td>NaN</td>\n",
       "      <td>Reference</td>\n",
       "      <td>Regular</td>\n",
       "      <td>MP</td>\n",
       "      <td>LD</td>\n",
       "      <td>Liberal Democrat</td>\n",
       "      <td>Coalition</td>\n",
       "      <td>Willott, Jennifer Nancy</td>\n",
       "      <td>F</td>\n",
       "      <td>-</td>\n",
       "      <td>1. What progress her Department has made on im...</td>\n",
       "    </tr>\n",
       "    <tr>\n",
       "      <th>1</th>\n",
       "      <td>ParlaMint-GB_2015-01-05-commons.u2</td>\n",
       "      <td>Minutes of the House of Commons, Daily Session...</td>\n",
       "      <td>2015-01-05</td>\n",
       "      <td>2015-01-05</td>\n",
       "      <td>Lower house</td>\n",
       "      <td>55</td>\n",
       "      <td>NaN</td>\n",
       "      <td>NaN</td>\n",
       "      <td>NaN</td>\n",
       "      <td>NaN</td>\n",
       "      <td>Reference</td>\n",
       "      <td>Regular</td>\n",
       "      <td>MP</td>\n",
       "      <td>CON</td>\n",
       "      <td>Conservative</td>\n",
       "      <td>Coalition</td>\n",
       "      <td>May, Theresa Mary</td>\n",
       "      <td>F</td>\n",
       "      <td>-</td>\n",
       "      <td>The Government are on track to deliver their c...</td>\n",
       "    </tr>\n",
       "    <tr>\n",
       "      <th>2</th>\n",
       "      <td>ParlaMint-GB_2015-01-05-commons.u3</td>\n",
       "      <td>Minutes of the House of Commons, Daily Session...</td>\n",
       "      <td>2015-01-05</td>\n",
       "      <td>2015-01-05</td>\n",
       "      <td>Lower house</td>\n",
       "      <td>55</td>\n",
       "      <td>NaN</td>\n",
       "      <td>NaN</td>\n",
       "      <td>NaN</td>\n",
       "      <td>NaN</td>\n",
       "      <td>Reference</td>\n",
       "      <td>Regular</td>\n",
       "      <td>MP</td>\n",
       "      <td>LD</td>\n",
       "      <td>Liberal Democrat</td>\n",
       "      <td>Coalition</td>\n",
       "      <td>Willott, Jennifer Nancy</td>\n",
       "      <td>F</td>\n",
       "      <td>-</td>\n",
       "      <td>It is clear that exit checks, which were scrap...</td>\n",
       "    </tr>\n",
       "    <tr>\n",
       "      <th>3</th>\n",
       "      <td>ParlaMint-GB_2015-01-05-commons.u4</td>\n",
       "      <td>Minutes of the House of Commons, Daily Session...</td>\n",
       "      <td>2015-01-05</td>\n",
       "      <td>2015-01-05</td>\n",
       "      <td>Lower house</td>\n",
       "      <td>55</td>\n",
       "      <td>NaN</td>\n",
       "      <td>NaN</td>\n",
       "      <td>NaN</td>\n",
       "      <td>NaN</td>\n",
       "      <td>Reference</td>\n",
       "      <td>Regular</td>\n",
       "      <td>MP</td>\n",
       "      <td>CON</td>\n",
       "      <td>Conservative</td>\n",
       "      <td>Coalition</td>\n",
       "      <td>May, Theresa Mary</td>\n",
       "      <td>F</td>\n",
       "      <td>-</td>\n",
       "      <td>As I indicated in my original answer, we are o...</td>\n",
       "    </tr>\n",
       "    <tr>\n",
       "      <th>4</th>\n",
       "      <td>ParlaMint-GB_2015-01-05-commons.u5</td>\n",
       "      <td>Minutes of the House of Commons, Daily Session...</td>\n",
       "      <td>2015-01-05</td>\n",
       "      <td>2015-01-05</td>\n",
       "      <td>Lower house</td>\n",
       "      <td>55</td>\n",
       "      <td>NaN</td>\n",
       "      <td>NaN</td>\n",
       "      <td>NaN</td>\n",
       "      <td>NaN</td>\n",
       "      <td>Reference</td>\n",
       "      <td>Regular</td>\n",
       "      <td>MP</td>\n",
       "      <td>LAB</td>\n",
       "      <td>Labour</td>\n",
       "      <td>Opposition</td>\n",
       "      <td>Cunningham, Alexander</td>\n",
       "      <td>M</td>\n",
       "      <td>-</td>\n",
       "      <td>19. Given the situation at our border in Calai...</td>\n",
       "    </tr>\n",
       "  </tbody>\n",
       "</table>\n",
       "</div>"
      ],
      "text/plain": [
       "                                   ID  \\\n",
       "0  ParlaMint-GB_2015-01-05-commons.u1   \n",
       "1  ParlaMint-GB_2015-01-05-commons.u2   \n",
       "2  ParlaMint-GB_2015-01-05-commons.u3   \n",
       "3  ParlaMint-GB_2015-01-05-commons.u4   \n",
       "4  ParlaMint-GB_2015-01-05-commons.u5   \n",
       "\n",
       "                                               Title        From          To  \\\n",
       "0  Minutes of the House of Commons, Daily Session...  2015-01-05  2015-01-05   \n",
       "1  Minutes of the House of Commons, Daily Session...  2015-01-05  2015-01-05   \n",
       "2  Minutes of the House of Commons, Daily Session...  2015-01-05  2015-01-05   \n",
       "3  Minutes of the House of Commons, Daily Session...  2015-01-05  2015-01-05   \n",
       "4  Minutes of the House of Commons, Daily Session...  2015-01-05  2015-01-05   \n",
       "\n",
       "         House  Term  Session  Meeting  Sitting  Agenda  Subcorpus  \\\n",
       "0  Lower house    55      NaN      NaN      NaN     NaN  Reference   \n",
       "1  Lower house    55      NaN      NaN      NaN     NaN  Reference   \n",
       "2  Lower house    55      NaN      NaN      NaN     NaN  Reference   \n",
       "3  Lower house    55      NaN      NaN      NaN     NaN  Reference   \n",
       "4  Lower house    55      NaN      NaN      NaN     NaN  Reference   \n",
       "\n",
       "  Speaker_role Speaker_type Speaker_party Speaker_party_name Party_status  \\\n",
       "0      Regular           MP            LD   Liberal Democrat    Coalition   \n",
       "1      Regular           MP           CON       Conservative    Coalition   \n",
       "2      Regular           MP            LD   Liberal Democrat    Coalition   \n",
       "3      Regular           MP           CON       Conservative    Coalition   \n",
       "4      Regular           MP           LAB             Labour   Opposition   \n",
       "\n",
       "              Speaker_name Speaker_gender Speaker_birth  \\\n",
       "0  Willott, Jennifer Nancy              F             -   \n",
       "1        May, Theresa Mary              F             -   \n",
       "2  Willott, Jennifer Nancy              F             -   \n",
       "3        May, Theresa Mary              F             -   \n",
       "4    Cunningham, Alexander              M             -   \n",
       "\n",
       "                                                Text  \n",
       "0  1. What progress her Department has made on im...  \n",
       "1  The Government are on track to deliver their c...  \n",
       "2  It is clear that exit checks, which were scrap...  \n",
       "3  As I indicated in my original answer, we are o...  \n",
       "4  19. Given the situation at our border in Calai...  "
      ]
     },
     "execution_count": 3,
     "metadata": {},
     "output_type": "execute_result"
    }
   ],
   "source": [
    "column_names = ['ID', 'Title', 'From', 'To', 'House', 'Term', 'Session', 'Meeting',\n",
    "       'Sitting', 'Agenda', 'Subcorpus', 'Speaker_role', 'Speaker_type',\n",
    "       'Speaker_party', 'Speaker_party_name', 'Party_status', 'Speaker_name',\n",
    "       'Speaker_gender', 'Speaker_birth', \"Text\"]\n",
    "ParlaMint = pd.read_csv(\"data/parlamint.csv\", index_col=False, usecols = column_names)\n",
    "# Show head of the data\n",
    "ParlaMint.head()"
   ]
  },
  {
   "cell_type": "markdown",
   "metadata": {},
   "source": [
    "Next step is exploration of the size of the dataset"
   ]
  },
  {
   "cell_type": "code",
   "execution_count": 4,
   "metadata": {},
   "outputs": [
    {
     "name": "stdout",
     "output_type": "stream",
     "text": [
      "The dataset is 676.02 MB.\n",
      "The dataset consists of 552103 datapoints each with a feature length of 20.\n"
     ]
    }
   ],
   "source": [
    "MB_size = os.path.getsize(\"data/parlamint.csv\") / 1024 / 1024 # Convert from byte to MB\n",
    "print(f\"The dataset is {MB_size:0.2f} MB.\")\n",
    "print(f\"The dataset consists of {ParlaMint.shape[0]} datapoints each with a feature length of {ParlaMint.shape[1]}.\")"
   ]
  },
  {
   "cell_type": "markdown",
   "metadata": {},
   "source": [
    "Here each datapoints should be understood as a MP's statement, while the next row in the dataset is the following MP's/speakers statement.\n",
    "\n",
    "Next step is to explore if there are any redunctant or dirty data that needs to be filter out before further analysis."
   ]
  },
  {
   "cell_type": "code",
   "execution_count": 5,
   "metadata": {},
   "outputs": [
    {
     "data": {
      "text/plain": [
       "ID                    552103\n",
       "Title                 552103\n",
       "From                  552103\n",
       "To                    552103\n",
       "House                 552103\n",
       "Term                  552103\n",
       "Session                    0\n",
       "Meeting                    0\n",
       "Sitting                    0\n",
       "Agenda                     0\n",
       "Subcorpus             552103\n",
       "Speaker_role          552103\n",
       "Speaker_type          552103\n",
       "Speaker_party         550489\n",
       "Speaker_party_name    551961\n",
       "Party_status          548885\n",
       "Speaker_name          552103\n",
       "Speaker_gender        552103\n",
       "Speaker_birth         552103\n",
       "Text                  552103\n",
       "dtype: int64"
      ]
     },
     "execution_count": 5,
     "metadata": {},
     "output_type": "execute_result"
    }
   ],
   "source": [
    "ParlaMint.count()"
   ]
  },
  {
   "cell_type": "markdown",
   "metadata": {},
   "source": [
    "From the counts of each columns it is seen that the columns Session, Meeting, Setting, Agenda only contains NaN-values and therefore can be excluded. "
   ]
  },
  {
   "cell_type": "code",
   "execution_count": 9,
   "metadata": {},
   "outputs": [
    {
     "data": {
      "text/plain": [
       "array(['-'], dtype=object)"
      ]
     },
     "execution_count": 9,
     "metadata": {},
     "output_type": "execute_result"
    }
   ],
   "source": [
    "np.unique(ParlaMint[\"Speaker_birth\"].values)"
   ]
  },
  {
   "cell_type": "markdown",
   "metadata": {},
   "source": [
    "Here it is seen that the Speaker Birth column only contains \"-\" and not the actual birthday of the speaker. Therefore this column is also excluded. "
   ]
  },
  {
   "cell_type": "code",
   "execution_count": 34,
   "metadata": {},
   "outputs": [
    {
     "data": {
      "text/plain": [
       "0        Coalition\n",
       "1        Coalition\n",
       "2        Coalition\n",
       "3        Coalition\n",
       "5        Coalition\n",
       "           ...    \n",
       "27457    Coalition\n",
       "27458    Coalition\n",
       "27459    Coalition\n",
       "27460    Coalition\n",
       "27461    Coalition\n",
       "Name: Party_status, Length: 17219, dtype: object"
      ]
     },
     "execution_count": 34,
     "metadata": {},
     "output_type": "execute_result"
    }
   ],
   "source": [
    "ParlaMint[\"Party_status\"][ParlaMint[\"Party_status\"] == \"Coalition\"]"
   ]
  }
 ],
 "metadata": {
  "interpreter": {
   "hash": "9dfac92ddc2295f9877b0e9857c25581b6b61f4edef89013906e55e322fb5221"
  },
  "kernelspec": {
   "display_name": "Python 3.10.3 64-bit",
   "language": "python",
   "name": "python3"
  },
  "language_info": {
   "codemirror_mode": {
    "name": "ipython",
    "version": 3
   },
   "file_extension": ".py",
   "mimetype": "text/x-python",
   "name": "python",
   "nbconvert_exporter": "python",
   "pygments_lexer": "ipython3",
   "version": "3.10.3"
  },
  "orig_nbformat": 4
 },
 "nbformat": 4,
 "nbformat_minor": 2
}
