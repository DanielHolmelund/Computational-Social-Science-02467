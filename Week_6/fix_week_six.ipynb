{
 "cells": [
  {
   "cell_type": "code",
   "execution_count": 11,
   "id": "c82fe5b7",
   "metadata": {},
   "outputs": [
    {
     "data": {
      "text/plain": [
       "['aaaAAA']"
      ]
     },
     "execution_count": 11,
     "metadata": {},
     "output_type": "execute_result"
    }
   ],
   "source": [
    "#a\n",
    "# Finds all words that has any letters :)\n",
    "import nltk, re, pprint\n",
    "from nltk import word_tokenize\n",
    "import pandas as pd\n",
    "import numpy as np\n",
    "\n",
    "wsj = sorted(set(nltk.corpus.treebank.words()))\n",
    "w = 'aaaAAA'\n",
    "re.findall(r'[a-zA-Z]+', w)\n"
   ]
  },
  {
   "cell_type": "code",
   "execution_count": null,
   "id": "cdbf878c",
   "metadata": {},
   "outputs": [],
   "source": []
  }
 ],
 "metadata": {
  "kernelspec": {
   "display_name": "Python 3",
   "language": "python",
   "name": "python3"
  },
  "language_info": {
   "codemirror_mode": {
    "name": "ipython",
    "version": 3
   },
   "file_extension": ".py",
   "mimetype": "text/x-python",
   "name": "python",
   "nbconvert_exporter": "python",
   "pygments_lexer": "ipython3",
   "version": "3.8.8"
  }
 },
 "nbformat": 4,
 "nbformat_minor": 5
}
